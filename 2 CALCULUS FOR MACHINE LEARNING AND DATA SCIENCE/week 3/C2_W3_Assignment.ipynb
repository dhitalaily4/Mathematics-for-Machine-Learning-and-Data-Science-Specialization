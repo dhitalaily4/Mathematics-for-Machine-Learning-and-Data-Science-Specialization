{
 "cells": [
  {
   "cell_type": "markdown",
   "metadata": {
    "id": "EAt-K2qgcIou"
   },
   "source": [
    "# Neural Network with Two Layers\n",
    "\n",
    "Welcome to your week three programming assignment. You are ready to build a neural network with two layers and train it to solve a classification problem. \n",
    "\n",
    "**After this assignment, you will be able to:**\n",
    "\n",
    "- Implement a neural network with two layers to a classification problem\n",
    "- Implement forward propagation using matrix multiplication\n",
    "- Perform backward propagation"
   ]
  },
  {
   "cell_type": "markdown",
   "metadata": {},
   "source": [
    "# Table of Contents\n",
    "\n",
    "- [ 1 - Classification Problem](#1)\n",
    "- [ 2 - Neural Network Model with Two Layers](#2)\n",
    "  - [ 2.1 - Neural Network Model with Two Layers for a Single Training Example](#2.1)\n",
    "  - [ 2.2 - Neural Network Model with Two Layers for Multiple Training Examples](#2.2)\n",
    "  - [ 2.3 - Cost Function and Training](#2.3)\n",
    "  - [ 2.4 - Dataset](#2.4)\n",
    "  - [ 2.5 - Define Activation Function](#2.5)\n",
    "    - [ Exercise 1](#ex01)\n",
    "- [ 3 - Implementation of the Neural Network Model with Two Layers](#3)\n",
    "  - [ 3.1 - Defining the Neural Network Structure](#3.1)\n",
    "    - [ Exercise 2](#ex02)\n",
    "  - [ 3.2 - Initialize the Model's Parameters](#3.2)\n",
    "    - [ Exercise 3](#ex03)\n",
    "  - [ 3.3 - The Loop](#3.3)\n",
    "    - [ Exercise 4](#ex04)\n",
    "    - [ Exercise 5](#ex05)\n",
    "    - [ Exercise 6](#ex06)\n",
    "  - [ 3.4 - Integrate parts 3.1, 3.2 and 3.3 in nn_model()](#3.4)\n",
    "    - [ Exercise 7](#ex07)\n",
    "    - [ Exercise 8](#ex08)\n",
    "- [ 4 - Optional: Other Dataset](#4)"
   ]
  },
  {
   "cell_type": "markdown",
   "metadata": {},
   "source": [
    "## Packages\n",
    "\n",
    "First, import all the packages you will need during this assignment."
   ]
  },
  {
   "cell_type": "code",
   "execution_count": 1,
   "metadata": {
    "tags": [
     "graded"
    ]
   },
   "outputs": [],
   "source": [
    "import numpy as np\n",
    "import matplotlib.pyplot as plt\n",
    "from matplotlib import colors\n",
    "# A function to create a dataset.\n",
    "from sklearn.datasets import make_blobs\n",
    "\n",
    "# Output of plotting commands is displayed inline within the Jupyter notebook.\n",
    "%matplotlib inline \n",
    "\n",
    "# Set a seed so that the results are consistent.\n",
    "np.random.seed(3)"
   ]
  },
  {
   "cell_type": "markdown",
   "metadata": {},
   "source": [
    "Load the unit tests defined for this notebook."
   ]
  },
  {
   "cell_type": "code",
   "execution_count": 2,
   "metadata": {},
   "outputs": [],
   "source": [
    "import w3_unittest"
   ]
  },
  {
   "cell_type": "markdown",
   "metadata": {},
   "source": [
    "<a name='1'></a>\n",
    "## 1 - Classification Problem"
   ]
  },
  {
   "cell_type": "markdown",
   "metadata": {},
   "source": [
    "In one of the labs this week, you trained a neural network with a single perceptron, performing forward and backward propagation. That simple structure was enough to solve a \"linear\" classification problem - finding a straight line in a plane that would serve as a decision boundary to separate two classes.\n",
    "\n",
    "Imagine that now you have a more complicated problem: you still have two classes, but one line will not be enough to separate them."
   ]
  },
  {
   "cell_type": "code",
   "execution_count": 3,
   "metadata": {
    "tags": [
     "graded"
    ]
   },
   "outputs": [
    {
     "data": {
      "text/plain": [
       "[]"
      ]
     },
     "execution_count": 3,
     "metadata": {},
     "output_type": "execute_result"
    },
    {
     "data": {
      "image/png": "[encoded data removed]",
      "text/plain": [
       "<Figure size 640x480 with 1 Axes>"
      ]
     },
     "metadata": {},
     "output_type": "display_data"
    }
   ],
   "source": [
    "fig, ax = plt.subplots()\n",
    "xmin, xmax = -0.2, 1.4\n",
    "x_line = np.arange(xmin, xmax, 0.1)\n",
    "# Data points (observations) from two classes.\n",
    "ax.scatter(0, 0, color=\"r\")\n",
    "ax.scatter(0, 1, color=\"b\")\n",
    "ax.scatter(1, 0, color=\"b\")\n",
    "ax.scatter(1, 1, color=\"r\")\n",
    "ax.set_xlim([xmin, xmax])\n",
    "ax.set_ylim([-0.1, 1.1])\n",
    "ax.set_xlabel('$x_1$')\n",
    "ax.set_ylabel('$x_2$')\n",
    "# Example of the lines which can be used as a decision boundary to separate two classes.\n",
    "ax.plot(x_line, -1 * x_line + 1.5, color=\"black\")\n",
    "ax.plot(x_line, -1 * x_line + 0.5, color=\"black\")\n",
    "plt.plot()"
   ]
  },
  {
   "cell_type": "markdown",
   "metadata": {},
   "source": [
    "This logic can appear in many applications. For example, if you train a model to predict whether you should buy a house knowing its size and the year it was built. A big new house will not be affordable, while a small old house will not be worth buying. So, you might be interested in either a big old house, or a small new house.\n",
    "\n",
    "The one perceptron neural network is not enough to solve such classification problem. Let's look at how you can adjust that model to find the solution.\n",
    "\n",
    "In the plot above, two lines can serve as a decision boundary. Your intuition might tell you that you should also increase the number of perceptrons. And that is absolutely right! You need to feed your data points (coordinates $x_1$, $x_2$) into two nodes separately and then unify them somehow with another one to make a decision. \n",
    "\n",
    "Now let's figure out the details, build and train your first multi-layer neural network!"
   ]
  },
  {
   "cell_type": "markdown",
   "metadata": {},
   "source": [
    "<a name='2'></a>\n",
    "## 2 - Neural Network Model with Two Layers"
   ]
  },
  {
   "cell_type": "markdown",
   "metadata": {},
   "source": [
    "<a name='2.1'></a>\n",
    "### 2.1 - Neural Network Model with Two Layers for a Single Training Example"
   ]
  },
  {
   "cell_type": "markdown",
   "metadata": {},
   "source": [
    "<img src=\"images/nn_model_2_layers.png\" style=\"width:1000px;\">"
   ]
  },
  {
   "cell_type": "markdown",
   "metadata": {},
   "source": [
    "The input and output layers of the neural network are the same as for one perceptron model, but there is a **hidden layer** now in between them. The training examples $x^{(i)}=\\begin{bmatrix}x_1^{(i)} \\\\ x_2^{(i)}\\end{bmatrix}$ from the input layer of size $n_x = 2$ are first fed into the hidden layer of size $n_h = 2$. They are simultaneously fed into the first perceptron with weights $W_1^{[1]}=\\begin{bmatrix}w_{1,1}^{[1]} & w_{2,1}^{[1]}\\end{bmatrix}$, bias  $b_1^{[1]}$; and into the second perceptron with weights $W_2^{[1]}=\\begin{bmatrix}w_{1,2}^{[1]} & w_{2,2}^{[1]}\\end{bmatrix}$, bias $b_2^{[1]}$. The integer in the square brackets $^{[1]}$ denotes the layer number, because there are two layers now with their own parameters and outputs, which need to be distinguished. \n",
    "\n",
    "\\begin{align}\n",
    "z_1^{[1](i)} &= w_{1,1}^{[1]} x_1^{(i)} + w_{2,1}^{[1]} x_2^{(i)} + b_1^{[1]} = W_1^{[1]}x^{(i)} + b_1^{[1]},\\\\\n",
    "z_2^{[1](i)} &= w_{1,2}^{[1]} x_1^{(i)} + w_{2,2}^{[1]} x_2^{(i)} + b_2^{[1]} = W_2^{[1]}x^{(i)} + b_2^{[1]}.\\tag{1}\n",
    "\\end{align}\n",
    "\n",
    "These expressions for one training example $x^{(i)}$ can be rewritten in a matrix form :\n",
    "\n",
    "$$z^{[1](i)} = W^{[1]} x^{(i)} + b^{[1]},\\tag{2}$$\n",
    "\n",
    "where \n",
    "\n",
    "&emsp; &emsp; $z^{[1](i)} = \\begin{bmatrix}z_1^{[1](i)} \\\\ z_2^{[1](i)}\\end{bmatrix}$ is vector of size $\\left(n_h \\times 1\\right) = \\left(2 \\times 1\\right)$; \n",
    "\n",
    "&emsp; &emsp; $W^{[1]} = \\begin{bmatrix}W_1^{[1]} \\\\ W_2^{[1]}\\end{bmatrix} = \n",
    "\\begin{bmatrix}w_{1,1}^{[1]} & w_{2,1}^{[1]} \\\\ w_{1,2}^{[1]} & w_{2,2}^{[1]}\\end{bmatrix}$ is matrix of size $\\left(n_h \\times n_x\\right) = \\left(2 \\times 2\\right)$;\n",
    "\n",
    "&emsp; &emsp; $b^{[1]} = \\begin{bmatrix}b_1^{[1]} \\\\ b_2^{[1]}\\end{bmatrix}$ is vector of size $\\left(n_h \\times 1\\right) = \\left(2 \\times 1\\right)$."
   ]
  },
  {
   "cell_type": "markdown",
   "metadata": {},
   "source": [
    "Next, the hidden layer activation function needs to be applied for each of the elements in the vector $z^{[1](i)}$. Various activation functions can be used here and in this model you will take the sigmoid function $\\sigma\\left(x\\right) = \\frac{1}{1 + e^{-x}}$. Remember that its derivative is $\\frac{d\\sigma}{dx} = \\sigma\\left(x\\right)\\left(1-\\sigma\\left(x\\right)\\right)$. The output of the hidden layer is a vector of size $\\left(n_h \\times 1\\right) = \\left(2 \\times 1\\right)$:\n",
    "\n",
    "$$a^{[1](i)} = \\sigma\\left(z^{[1](i)}\\right) = \n",
    "\\begin{bmatrix}\\sigma\\left(z_1^{[1](i)}\\right) \\\\ \\sigma\\left(z_2^{[1](i)}\\right)\\end{bmatrix}.\\tag{3}$$\n",
    "\n",
    "Then the hidden layer output gets fed into the output layer of size $n_y = 1$. This was covered in the previous lab, the only difference are: $a^{[1](i)}$ is taken instead of $x^{(i)}$ and layer notation $^{[2]}$ appears to identify all parameters and outputs:\n",
    "\n",
    "$$z^{[2](i)} = w_1^{[2]} a_1^{[1](i)} + w_2^{[2]} a_2^{[1](i)} + b^{[2]}= W^{[2]} a^{[1](i)} + b^{[2]},\\tag{4}$$\n",
    "\n",
    "&emsp; &emsp; $z^{[2](i)}$ and $b^{[2]}$ are scalars for this model, as $\\left(n_y \\times 1\\right) = \\left(1 \\times 1\\right)$; \n",
    "\n",
    "&emsp; &emsp; $W^{[2]} = \\begin{bmatrix}w_1^{[2]} & w_2^{[2]}\\end{bmatrix}$ is vector of size $\\left(n_y \\times n_h\\right) = \\left(1 \\times 2\\right)$.\n",
    "\n",
    "Finally, the same sigmoid function is used as the output layer activation function:\n",
    "\n",
    "$$a^{[2](i)} = \\sigma\\left(z^{[2](i)}\\right).\\tag{5}$$\n",
    "\n",
    "Mathematically the two layer neural network model for each training example $x^{(i)}$ can be written with the expressions $(2) - (5)$. Let's rewrite them next to each other for convenience:\n",
    "\n",
    "\\begin{align}\n",
    "z^{[1](i)} &= W^{[1]} x^{(i)} + b^{[1]},\\\\\n",
    "a^{[1](i)} &= \\sigma\\left(z^{[1](i)}\\right),\\\\\n",
    "z^{[2](i)} &= W^{[2]} a^{[1](i)} + b^{[2]},\\\\\n",
    "a^{[2](i)} &= \\sigma\\left(z^{[2](i)}\\right).\\\\\n",
    "\\tag{6}\n",
    "\\end{align}\n",
    "\n",
    "Note, that all of the parameters to be trained in the model are without $^{(i)}$ index - they are independent on the input data."
   ]
  },
  {
   "cell_type": "markdown",
   "metadata": {},
   "source": [
    "Finally, the predictions for some example $x^{(i)}$ can be made taking the output $a^{[2](i)}$ and calculating $\\hat{y}$ as: $\\hat{y} = \\begin{cases} 1 & \\mbox{if } a^{[2](i)} > 0.5, \\\\ 0 & \\mbox{otherwise }. \\end{cases}$."
   ]
  },
  {
   "cell_type": "markdown",
   "metadata": {},
   "source": [
    "<a name='2.2'></a>\n",
    "### 2.2 - Neural Network Model with Two Layers for Multiple Training Examples"
   ]
  },
  {
   "cell_type": "markdown",
   "metadata": {},
   "source": [
    "Similarly to the single perceptron model, $m$ training examples can be organised in a matrix $X$ of a shape ($2 \\times m$), putting $x^{(i)}$ into columns. Then the model $(6)$ can be rewritten in terms of matrix multiplications:\n",
    "\n",
    "\\begin{align}\n",
    "Z^{[1]} &= W^{[1]} X + b^{[1]},\\\\\n",
    "A^{[1]} &= \\sigma\\left(Z^{[1]}\\right),\\\\\n",
    "Z^{[2]} &= W^{[2]} A^{[1]} + b^{[2]},\\\\\n",
    "A^{[2]} &= \\sigma\\left(Z^{[2]}\\right),\\\\\n",
    "\\tag{7}\n",
    "\\end{align}\n",
    "\n",
    "where $b^{[1]}$ is broadcasted to the matrix of size $\\left(n_h \\times m\\right) = \\left(2 \\times m\\right)$ and $b^{[2]}$ to the vector of size $\\left(n_y \\times m\\right) = \\left(1 \\times m\\right)$. It would be a good exercise for you to have a look at the expressions $(7)$ and check that sizes of the matrices will actually match to perform required multiplications.\n",
    "\n",
    "You have derived expressions to perform forward propagation. Time to evaluate your model and train it."
   ]
  },
  {
   "cell_type": "markdown",
   "metadata": {},
   "source": [
    "<a name='2.3'></a>\n",
    "### 2.3 - Cost Function and Training"
   ]
  },
  {
   "cell_type": "markdown",
   "metadata": {},
   "source": [
    "For the evaluation of this simple neural network you can use the same cost function as for the single perceptron case - log loss function. Originally initialized weights were just some random values, now you need to perform training of the model: find such set of parameters $W^{[1]}$, $b^{[1]}$, $W^{[2]}$, $b^{[2]}$, that will minimize the cost function.\n",
    "\n",
    "Like in the previous example of a single perceptron neural network, the cost function can be written as:\n",
    "\n",
    "$$\\mathcal{L}\\left(W^{[1]}, b^{[1]}, W^{[2]}, b^{[2]}\\right) = \\frac{1}{m}\\sum_{i=1}^{m} L\\left(W^{[1]}, b^{[1]}, W^{[2]}, b^{[2]}\\right) =  \\frac{1}{m}\\sum_{i=1}^{m}  \\large\\left(\\small - y^{(i)}\\log\\left(a^{[2](i)}\\right) - (1-y^{(i)})\\log\\left(1- a^{[2](i)}\\right)  \\large  \\right), \\small\\tag{8}$$\n",
    "\n",
    "where $y^{(i)} \\in \\{0,1\\}$ are the original labels and $a^{[2](i)}$ are the continuous output values of the forward propagation step (elements of array $A^{[2]}$).\n",
    "\n",
    "To minimize it, you can use gradient descent, updating the parameters with the following expressions:\n",
    "\n",
    "\\begin{align}\n",
    "W^{[1]} &= W^{[1]} - \\alpha \\frac{\\partial \\mathcal{L} }{ \\partial W^{[1]} },\\\\\n",
    "b^{[1]} &= b^{[1]} - \\alpha \\frac{\\partial \\mathcal{L} }{ \\partial b^{[1]} },\\\\\n",
    "W^{[2]} &= W^{[2]} - \\alpha \\frac{\\partial \\mathcal{L} }{ \\partial W^{[2]} },\\\\\n",
    "b^{[2]} &= b^{[2]} - \\alpha \\frac{\\partial \\mathcal{L} }{ \\partial b^{[2]} },\\\\\n",
    "\\tag{9}\n",
    "\\end{align}\n",
    "\n",
    "where $\\alpha$ is the learning rate."
   ]
  },
  {
   "cell_type": "markdown",
   "metadata": {},
   "source": [
    "\n",
    "To perform training of the model you need to calculate now $\\frac{\\partial \\mathcal{L} }{ \\partial W^{[1]}}$, $\\frac{\\partial \\mathcal{L} }{ \\partial b^{[1]}}$, $\\frac{\\partial \\mathcal{L} }{ \\partial W^{[2]}}$, $\\frac{\\partial \\mathcal{L} }{ \\partial b^{[2]}}$. \n",
    "\n",
    "Let's start from the end of the neural network. You can rewrite here the corresponding expressions for $\\frac{\\partial \\mathcal{L} }{ \\partial W }$ and $\\frac{\\partial \\mathcal{L} }{ \\partial b }$ from the single perceptron neural network:\n",
    "\n",
    "\\begin{align}\n",
    "\\frac{\\partial \\mathcal{L} }{ \\partial W } &= \n",
    "\\frac{1}{m}\\left(A-Y\\right)X^T,\\\\\n",
    "\\frac{\\partial \\mathcal{L} }{ \\partial b } &= \n",
    "\\frac{1}{m}\\left(A-Y\\right)\\mathbf{1},\\\\\n",
    "\\end{align}\n",
    "\n",
    "where $\\mathbf{1}$ is just a ($m \\times 1$) vector of ones. Your one perceptron is in the second layer now, so $W$ will be exchanged with $W^{[2]}$, $b$ with $b^{[2]}$, $A$ with $A^{[2]}$, $X$ with $A^{[1]}$:\n",
    "\n",
    "\\begin{align}\n",
    "\\frac{\\partial \\mathcal{L} }{ \\partial W^{[2]} } &= \n",
    "\\frac{1}{m}\\left(A^{[2]}-Y\\right)\\left(A^{[1]}\\right)^T,\\\\\n",
    "\\frac{\\partial \\mathcal{L} }{ \\partial b^{[2]} } &= \n",
    "\\frac{1}{m}\\left(A^{[2]}-Y\\right)\\mathbf{1}.\\\\\n",
    "\\tag{10}\n",
    "\\end{align}\n"
   ]
  },
  {
   "cell_type": "markdown",
   "metadata": {},
   "source": [
    "Let's now find $\\frac{\\partial \\mathcal{L} }{ \\partial W^{[1]}} = \n",
    "\\begin{bmatrix}\n",
    "\\frac{\\partial \\mathcal{L} }{ \\partial w_{1,1}^{[1]}} & \\frac{\\partial \\mathcal{L} }{ \\partial w_{2,1}^{[1]}} \\\\\n",
    "\\frac{\\partial \\mathcal{L} }{ \\partial w_{1,2}^{[1]}} & \\frac{\\partial \\mathcal{L} }{ \\partial w_{2,2}^{[1]}} \\end{bmatrix}$. It was shown in the videos that $$\\frac{\\partial \\mathcal{L} }{ \\partial w_{1,1}^{[1]}}=\\frac{1}{m}\\sum_{i=1}^{m} \\left( \n",
    "\\left(a^{[2](i)} - y^{(i)}\\right) \n",
    "w_1^{[2]} \n",
    "\\left(a_1^{[1](i)}\\left(1-a_1^{[1](i)}\\right)\\right)\n",
    "x_1^{(i)}\\right)\\tag{11}$$\n",
    "\n",
    "If you do this accurately for each of the elements $\\frac{\\partial \\mathcal{L} }{ \\partial W^{[1]}}$, you will get the following matrix:\n",
    "\n",
    "$$\\frac{\\partial \\mathcal{L} }{ \\partial W^{[1]}} = \\begin{bmatrix}\n",
    "\\frac{\\partial \\mathcal{L} }{ \\partial w_{1,1}^{[1]}} & \\frac{\\partial \\mathcal{L} }{ \\partial w_{2,1}^{[1]}} \\\\\n",
    "\\frac{\\partial \\mathcal{L} }{ \\partial w_{1,2}^{[1]}} & \\frac{\\partial \\mathcal{L} }{ \\partial w_{2,2}^{[1]}} \\end{bmatrix}$$\n",
    "$$= \\frac{1}{m}\\begin{bmatrix}\n",
    "\\sum_{i=1}^{m} \\left( \\left(a^{[2](i)} - y^{(i)}\\right) w_1^{[2]} \\left(a_1^{[1](i)}\\left(1-a_1^{[1](i)}\\right)\\right)\n",
    "x_1^{(i)}\\right) & \n",
    "\\sum_{i=1}^{m} \\left( \\left(a^{[2](i)} - y^{(i)}\\right) w_1^{[2]} \\left(a_1^{[1](i)}\\left(1-a_1^{[1](i)}\\right)\\right)\n",
    "x_2^{(i)}\\right)  \\\\\n",
    "\\sum_{i=1}^{m} \\left( \\left(a^{[2](i)} - y^{(i)}\\right) w_2^{[2]} \\left(a_2^{[1](i)}\\left(1-a_2^{[1](i)}\\right)\\right)\n",
    "x_1^{(i)}\\right) & \n",
    "\\sum_{i=1}^{m} \\left( \\left(a^{[2](i)} - y^{(i)}\\right) w_2^{[2]} \\left(a_2^{[1](i)}\\left(1-a_2^{[1](i)}\\right)\\right)\n",
    "x_2^{(i)}\\right)\\end{bmatrix}\\tag{12}$$"
   ]
  },
  {
   "cell_type": "markdown",
   "metadata": {},
   "source": [
    "Looking at this, you can notice that all terms and indices somehow are very consistent, so it all can be unified into a matrix form. And that's true! $\\left(W^{[2]}\\right)^T = \\begin{bmatrix}w_1^{[2]} \\\\ w_2^{[2]}\\end{bmatrix}$ of size $\\left(n_h \\times n_y\\right) = \\left(2 \\times 1\\right)$ can be multiplied with the vector $A^{[2]} - Y$ of size $\\left(n_y \\times m\\right) = \\left(1 \\times m\\right)$, resulting in a matrix of size $\\left(n_h \\times m\\right) = \\left(2 \\times m\\right)$:\n",
    "\n",
    "$$\\left(W^{[2]}\\right)^T \\left(A^{[2]} - Y\\right)=\n",
    "\\begin{bmatrix}w_1^{[2]} \\\\ w_2^{[2]}\\end{bmatrix}\n",
    "\\begin{bmatrix}\\left(a^{[2](1)} - y^{(1)}\\right) &  \\cdots & \\left(a^{[2](m)} - y^{(m)}\\right)\\end{bmatrix}\n",
    "=\\begin{bmatrix}\n",
    "\\left(a^{[2](1)} - y^{(1)}\\right) w_1^{[2]} & \\cdots & \\left(a^{[2](m)} - y^{(m)}\\right) w_1^{[2]} \\\\\n",
    "\\left(a^{[2](1)} - y^{(1)}\\right) w_2^{[2]} & \\cdots & \\left(a^{[2](m)} - y^{(m)}\\right) w_2^{[2]} \\end{bmatrix}$$.\n",
    "\n",
    "Now taking matrix $A^{[1]}$ of the same size $\\left(n_h \\times m\\right) = \\left(2 \\times m\\right)$,\n",
    "\n",
    "$$A^{[1]}\n",
    "=\\begin{bmatrix}\n",
    "a_1^{[1](1)} & \\cdots & a_1^{[1](m)} \\\\\n",
    "a_2^{[1](1)} & \\cdots & a_2^{[1](m)} \\end{bmatrix},$$\n",
    "\n",
    "you can calculate:\n",
    "\n",
    "$$A^{[1]}\\cdot\\left(1-A^{[1]}\\right)\n",
    "=\\begin{bmatrix}\n",
    "a_1^{[1](1)}\\left(1 - a_1^{[1](1)}\\right) & \\cdots & a_1^{[1](m)}\\left(1 - a_1^{[1](m)}\\right) \\\\\n",
    "a_2^{[1](1)}\\left(1 - a_2^{[1](1)}\\right) & \\cdots & a_2^{[1](m)}\\left(1 - a_2^{[1](m)}\\right) \\end{bmatrix},$$\n",
    "\n",
    "where \"$\\cdot$\" denotes **element by element** multiplication."
   ]
  },
  {
   "cell_type": "markdown",
   "metadata": {},
   "source": [
    "With the element by element multiplication,\n",
    "\n",
    "$$\\left(W^{[2]}\\right)^T \\left(A^{[2]} - Y\\right)\\cdot \\left(A^{[1]}\\cdot\\left(1-A^{[1]}\\right)\\right)=\\begin{bmatrix}\n",
    "\\left(a^{[2](1)} - y^{(1)}\\right) w_1^{[2]}\\left(a_1^{[1](1)}\\left(1 - a_1^{[1](1)}\\right)\\right) & \\cdots & \\left(a^{[2](m)} - y^{(m)}\\right) w_1^{[2]}\\left(a_1^{[1](m)}\\left(1 - a_1^{[1](m)}\\right)\\right) \\\\\n",
    "\\left(a^{[2](1)} - y^{(1)}\\right) w_2^{[2]}\\left(a_2^{[1](1)}\\left(1 - a_2^{[1](1)}\\right)\\right) & \\cdots & \\left(a^{[2](m)} - y^{(m)}\\right) w_2^{[2]} \\left(a_2^{[1](m)}\\left(1 - a_2^{[1](m)}\\right)\\right) \\end{bmatrix}.$$\n",
    "\n",
    "If you perform matrix multiplication with $X^T$ of size $\\left(m \\times n_x\\right) = \\left(m \\times 2\\right)$, you will get matrix of size $\\left(n_h \\times n_x\\right) = \\left(2 \\times 2\\right)$:\n",
    "\n",
    "$$\\left(\\left(W^{[2]}\\right)^T \\left(A^{[2]} - Y\\right)\\cdot \\left(A^{[1]}\\cdot\\left(1-A^{[1]}\\right)\\right)\\right)X^T = \n",
    "\\begin{bmatrix}\n",
    "\\left(a^{[2](1)} - y^{(1)}\\right) w_1^{[2]}\\left(a_1^{[1](1)}\\left(1 - a_1^{[1](1)}\\right)\\right) & \\cdots & \\left(a^{[2](m)} - y^{(m)}\\right) w_1^{[2]}\\left(a_1^{[1](m)}\\left(1 - a_1^{[1](m)}\\right)\\right) \\\\\n",
    "\\left(a^{[2](1)} - y^{(1)}\\right) w_2^{[2]}\\left(a_2^{[1](1)}\\left(1 - a_2^{[1](1)}\\right)\\right) & \\cdots & \\left(a^{[2](m)} - y^{(m)}\\right) w_2^{[2]} \\left(a_2^{[1](m)}\\left(1 - a_2^{[1](m)}\\right)\\right) \\end{bmatrix}\n",
    "\\begin{bmatrix}\n",
    "x_1^{(1)} & x_2^{(1)} \\\\\n",
    "\\cdots & \\cdots \\\\\n",
    "x_1^{(m)} & x_2^{(m)}\n",
    "\\end{bmatrix}$$\n",
    "$$=\\begin{bmatrix}\n",
    "\\sum_{i=1}^{m} \\left( \\left(a^{[2](i)} - y^{(i)}\\right) w_1^{[2]} \\left(a_1^{[1](i)}\\left(1 - a_1^{[1](i)}\\right) \\right)\n",
    "x_1^{(i)}\\right) & \n",
    "\\sum_{i=1}^{m} \\left( \\left(a^{[2](i)} - y^{(i)}\\right) w_1^{[2]} \\left(a_1^{[1](i)}\\left(1-a_1^{[1](i)}\\right)\\right)\n",
    "x_2^{(i)}\\right)  \\\\\n",
    "\\sum_{i=1}^{m} \\left( \\left(a^{[2](i)} - y^{(i)}\\right) w_2^{[2]} \\left(a_2^{[1](i)}\\left(1-a_2^{[1](i)}\\right)\\right)\n",
    "x_1^{(i)}\\right) & \n",
    "\\sum_{i=1}^{m} \\left( \\left(a^{[2](i)} - y^{(i)}\\right) w_2^{[2]} \\left(a_2^{[1](i)}\\left(1-a_2^{[1](i)}\\right)\\right)\n",
    "x_2^{(i)}\\right)\\end{bmatrix}$$\n",
    "\n",
    "This is exactly like in the expression $(12)$! So, $\\frac{\\partial \\mathcal{L} }{ \\partial W^{[1]}}$ can be written as a mixture of multiplications:\n",
    "\n",
    "$$\\frac{\\partial \\mathcal{L} }{ \\partial W^{[1]}} = \\frac{1}{m}\\left(\\left(W^{[2]}\\right)^T \\left(A^{[2]} - Y\\right)\\cdot \\left(A^{[1]}\\cdot\\left(1-A^{[1]}\\right)\\right)\\right)X^T\\tag{13},$$\n",
    "\n",
    "where \"$\\cdot$\" denotes element by element multiplications."
   ]
  },
  {
   "cell_type": "markdown",
   "metadata": {},
   "source": [
    "Vector $\\frac{\\partial \\mathcal{L} }{ \\partial b^{[1]}}$ can be found very similarly, but the last terms in the chain rule will be equal to $1$, i.e. $\\frac{\\partial z_1^{[1](i)}}{ \\partial b_1^{[1]}} = 1$. Thus,\n",
    "\n",
    "$$\\frac{\\partial \\mathcal{L} }{ \\partial b^{[1]}} = \\frac{1}{m}\\left(\\left(W^{[2]}\\right)^T \\left(A^{[2]} - Y\\right)\\cdot \\left(A^{[1]}\\cdot\\left(1-A^{[1]}\\right)\\right)\\right)\\mathbf{1},\\tag{14}$$\n",
    "\n",
    "where $\\mathbf{1}$ is a ($m \\times 1$) vector of ones.\n",
    "\n",
    "Expressions $(10)$, $(13)$ and $(14)$ can be used for the parameters update $(9)$ performing backward propagation:\n",
    "\n",
    "\\begin{align}\n",
    "\\frac{\\partial \\mathcal{L} }{ \\partial W^{[2]} } &= \n",
    "\\frac{1}{m}\\left(A^{[2]}-Y\\right)\\left(A^{[1]}\\right)^T,\\\\\n",
    "\\frac{\\partial \\mathcal{L} }{ \\partial b^{[2]} } &= \n",
    "\\frac{1}{m}\\left(A^{[2]}-Y\\right)\\mathbf{1},\\\\\n",
    "\\frac{\\partial \\mathcal{L} }{ \\partial W^{[1]}} &= \\frac{1}{m}\\left(\\left(W^{[2]}\\right)^T \\left(A^{[2]} - Y\\right)\\cdot \\left(A^{[1]}\\cdot\\left(1-A^{[1]}\\right)\\right)\\right)X^T,\\\\\n",
    "\\frac{\\partial \\mathcal{L} }{ \\partial b^{[1]}} &= \\frac{1}{m}\\left(\\left(W^{[2]}\\right)^T \\left(A^{[2]} - Y\\right)\\cdot \\left(A^{[1]}\\cdot\\left(1-A^{[1]}\\right)\\right)\\right)\\mathbf{1},\\\\\n",
    "\\tag{15}\n",
    "\\end{align}\n",
    "\n",
    "where $\\mathbf{1}$ is a ($m \\times 1$) vector of ones."
   ]
  },
  {
   "cell_type": "markdown",
   "metadata": {},
   "source": [
    "So, to understand deeply and properly how neural networks perform and get trained, **you do need knowledge of linear algebra and calculus joined together**! But do not worry! All together it is not that scary if you do it step by step accurately with understanding of maths.\n",
    "\n",
    "Time to implement this all in the code!"
   ]
  },
  {
   "cell_type": "markdown",
   "metadata": {},
   "source": [
    "<a name='2.2'></a>\n",
    "### 2.2 - Dataset\n",
    "\n",
    "First, let's get the dataset you will work on. The following code will create $m=2000$ data points $(x_1, x_2)$ and save them in the `NumPy` array `X` of a shape $(2 \\times m)$ (in the columns of the array). The labels ($0$: blue, $1$: red) will be saved in the `NumPy` array `Y` of a shape $(1 \\times m)$."
   ]
  },
  {
   "cell_type": "code",
   "execution_count": null,
   "metadata": {
    "tags": [
     "graded"
    ]
   },
   "outputs": [],
   "source": [
    "m = 2000\n",
    "samples, labels = make_blobs(n_samples=m, \n",
    "                             centers=([2.5, 3], [6.7, 7.9], [2.1, 7.9], [7.4, 2.8]), \n",
    "                             cluster_std=1.1,\n",
    "                             random_state=0)\n",
    "labels[(labels == 0) | (labels == 1)] = 1\n",
    "labels[(labels == 2) | (labels == 3)] = 0\n",
    "X = np.transpose(samples)\n",
    "Y = labels.reshape((1, m))\n",
    "\n",
    "plt.scatter(X[0, :], X[1, :], c=Y, cmap=colors.ListedColormap(['blue', 'red']));\n",
    "\n",
    "print ('The shape of X is: ' + str(X.shape))\n",
    "print ('The shape of Y is: ' + str(Y.shape))\n",
    "print ('I have m = %d training examples!' % (m))"
   ]
  },
  {
   "cell_type": "markdown",
   "metadata": {},
   "source": [
    "<a name='2.3'></a>\n",
    "### 2.3 - Define Activation Function"
   ]
  },
  {
   "cell_type": "markdown",
   "metadata": {},
   "source": [
    "<a name='ex01'></a>\n",
    "### Exercise 1\n",
    "\n",
    "Define sigmoid activation function $\\sigma\\left(z\\right) =\\frac{1}{1+e^{-z}} $."
   ]
  },
  {
   "cell_type": "code",
   "execution_count": null,
   "metadata": {
    "tags": [
     "graded"
    ]
   },
   "outputs": [],
   "source": [
    "def sigmoid(z):\n",
    "    ### START CODE HERE ### (~ 1 line of code)\n",
    "    res = None\n",
    "    ### END CODE HERE ###\n",
    "    \n",
    "    return res"
   ]
  },
  {
   "cell_type": "code",
   "execution_count": null,
   "metadata": {
    "tags": [
     "graded"
    ]
   },
   "outputs": [],
   "source": [
    "print(\"sigmoid(-2) = \" + str(sigmoid(-2)))\n",
    "print(\"sigmoid(0) = \" + str(sigmoid(0)))\n",
    "print(\"sigmoid(3.5) = \" + str(sigmoid(3.5)))"
   ]
  },
  {
   "cell_type": "markdown",
   "metadata": {},
   "source": [
    "##### __Expected Output__\n",
    "\n",
    "Note: the values may vary in the last decimal places.\n",
    "\n",
    "```Python\n",
    "sigmoid(-2) = 0.11920292202211755\n",
    "sigmoid(0) = 0.5\n",
    "sigmoid(3.5) = 0.9706877692486436\n",
    "```"
   ]
  },
  {
   "cell_type": "code",
   "execution_count": null,
   "metadata": {},
   "outputs": [],
   "source": [
    "w3_unittest.test_sigmoid(sigmoid)"
   ]
  },
  {
   "cell_type": "markdown",
   "metadata": {},
   "source": [
    "<a name='3'></a>\n",
    "## 3 - Implementation of the Neural Network Model with Two Layers"
   ]
  },
  {
   "cell_type": "markdown",
   "metadata": {},
   "source": [
    "<a name='3.1'></a>\n",
    "### 3.1 - Defining the Neural Network Structure"
   ]
  },
  {
   "cell_type": "markdown",
   "metadata": {},
   "source": [
    "<a name='ex02'></a>\n",
    "### Exercise 2\n",
    "\n",
    "Define three variables:\n",
    "- `n_x`: the size of the input layer\n",
    "- `n_h`: the size of the hidden layer (set it equal to 2 for now)\n",
    "- `n_y`: the size of the output layer"
   ]
  },
  {
   "cell_type": "markdown",
   "metadata": {},
   "source": [
    "<details>    \n",
    "<summary>\n",
    "    <font size=\"3\" color=\"darkgreen\"><b>Hint</b></font>\n",
    "</summary>\n",
    "<p>\n",
    "<ul>\n",
    "    Use shapes of X and Y to find n_x and n_y:\n",
    "    <li>the size of the input layer n_x equals to the size of the input vectors placed in the columns of the array X,</li>\n",
    "    <li>the outpus for each of the data point will be saved in the columns of the the array Y.</li>\n",
    "</ul>\n",
    "</p>"
   ]
  },
  {
   "cell_type": "code",
   "execution_count": null,
   "metadata": {
    "tags": [
     "graded"
    ]
   },
   "outputs": [],
   "source": [
    "# GRADED FUNCTION: layer_sizes\n",
    "\n",
    "def layer_sizes(X, Y):\n",
    "    \"\"\"\n",
    "    Arguments:\n",
    "    X -- input dataset of shape (input size, number of examples)\n",
    "    Y -- labels of shape (output size, number of examples)\n",
    "    \n",
    "    Returns:\n",
    "    n_x -- the size of the input layer\n",
    "    n_h -- the size of the hidden layer\n",
    "    n_y -- the size of the output layer\n",
    "    \"\"\"\n",
    "    ### START CODE HERE ### (~ 3 lines of code)\n",
    "    # Size of input layer.\n",
    "    n_x = None\n",
    "    # Size of hidden layer.\n",
    "    n_h = None\n",
    "    # Size of output layer.\n",
    "    n_y = None \n",
    "    ### END CODE HERE ###\n",
    "    return (n_x, n_h, n_y)"
   ]
  },
  {
   "cell_type": "code",
   "execution_count": null,
   "metadata": {
    "tags": [
     "graded"
    ]
   },
   "outputs": [],
   "source": [
    "(n_x, n_h, n_y) = layer_sizes(X, Y)\n",
    "print(\"The size of the input layer is: n_x = \" + str(n_x))\n",
    "print(\"The size of the hidden layer is: n_h = \" + str(n_h))\n",
    "print(\"The size of the output layer is: n_y = \" + str(n_y))"
   ]
  },
  {
   "cell_type": "markdown",
   "metadata": {},
   "source": [
    "##### __Expected Output__\n",
    "\n",
    "```Python\n",
    "The size of the input layer is: n_x = 2\n",
    "The size of the hidden layer is: n_h = 2\n",
    "The size of the output layer is: n_y = 1\n",
    "```"
   ]
  },
  {
   "cell_type": "code",
   "execution_count": null,
   "metadata": {},
   "outputs": [],
   "source": [
    "w3_unittest.test_layer_sizes(layer_sizes)"
   ]
  },
  {
   "cell_type": "markdown",
   "metadata": {},
   "source": [
    "<a name='3.2'></a>\n",
    "### 3.2 - Initialize the Model's Parameters"
   ]
  },
  {
   "cell_type": "markdown",
   "metadata": {},
   "source": [
    "<a name='ex03'></a>\n",
    "### Exercise 3\n",
    "\n",
    "Implement the function `initialize_parameters()`.\n",
    "\n",
    "**Instructions**:\n",
    "- Make sure your parameters' sizes are right. Refer to the neural network figure above if needed.\n",
    "- You will initialize the weights matrix with random values. \n",
    "    - Use: `np.random.randn(a,b) * 0.01` to randomly initialize a matrix of shape (a,b).\n",
    "- You will initialize the bias vector as zeros. \n",
    "    - Use: `np.zeros((a,b))` to initialize a matrix of shape (a,b) with zeros."
   ]
  },
  {
   "cell_type": "code",
   "execution_count": null,
   "metadata": {
    "tags": [
     "graded"
    ]
   },
   "outputs": [],
   "source": [
    "# GRADED FUNCTION: initialize_parameters\n",
    "\n",
    "def initialize_parameters(n_x, n_h, n_y):\n",
    "    \"\"\"\n",
    "    Argument:\n",
    "    n_x -- size of the input layer\n",
    "    n_h -- size of the hidden layer\n",
    "    n_y -- size of the output layer\n",
    "    \n",
    "    Returns:\n",
    "    params -- python dictionary containing your parameters:\n",
    "                    W1 -- weight matrix of shape (n_h, n_x)\n",
    "                    b1 -- bias vector of shape (n_h, 1)\n",
    "                    W2 -- weight matrix of shape (n_y, n_h)\n",
    "                    b2 -- bias vector of shape (n_y, 1)\n",
    "    \"\"\"\n",
    "    \n",
    "    ### START CODE HERE ### (~ 4 lines of code)\n",
    "    W1 = None\n",
    "    b1 = None\n",
    "    W2 = None\n",
    "    b2 = None\n",
    "    ### END CODE HERE ###\n",
    "    \n",
    "    assert (W1.shape == (n_h, n_x))\n",
    "    assert (b1.shape == (n_h, 1))\n",
    "    assert (W2.shape == (n_y, n_h))\n",
    "    assert (b2.shape == (n_y, 1))\n",
    "    \n",
    "    parameters = {\"W1\": W1,\n",
    "                  \"b1\": b1,\n",
    "                  \"W2\": W2,\n",
    "                  \"b2\": b2}\n",
    "    \n",
    "    return parameters"
   ]
  },
  {
   "cell_type": "code",
   "execution_count": null,
   "metadata": {
    "tags": [
     "graded"
    ]
   },
   "outputs": [],
   "source": [
    "parameters = initialize_parameters(n_x, n_h, n_y)\n",
    "\n",
    "print(\"W1 = \" + str(parameters[\"W1\"]))\n",
    "print(\"b1 = \" + str(parameters[\"b1\"]))\n",
    "print(\"W2 = \" + str(parameters[\"W2\"]))\n",
    "print(\"b2 = \" + str(parameters[\"b2\"]))"
   ]
  },
  {
   "cell_type": "markdown",
   "metadata": {},
   "source": [
    "##### __Expected Output__ \n",
    "Note: the elements of the arrays W1 and W2 maybe be different due to random initialization. You can try to restart the kernel to get the same values.\n",
    "\n",
    "```Python\n",
    "W1 = [[ 0.01788628  0.0043651 ]\n",
    " [ 0.00096497 -0.01863493]]\n",
    "b1 = [[0.]\n",
    " [0.]]\n",
    "W2 = [[-0.00277388 -0.00354759]]\n",
    "b2 = [[0.]]\n",
    "```"
   ]
  },
  {
   "cell_type": "code",
   "execution_count": null,
   "metadata": {},
   "outputs": [],
   "source": [
    "# Note: \n",
    "# Actual values are not checked here in the unit tests (due to random initialization).\n",
    "w3_unittest.test_initialize_parameters(initialize_parameters)"
   ]
  },
  {
   "cell_type": "markdown",
   "metadata": {},
   "source": [
    "<a name='3.3'></a>\n",
    "### 3.3 - The Loop"
   ]
  },
  {
   "cell_type": "markdown",
   "metadata": {},
   "source": [
    "<a name='ex04'></a>\n",
    "### Exercise 4\n",
    "\n",
    "Implement `forward_propagation()`.\n",
    "\n",
    "**Instructions**:\n",
    "- Look above at the mathematical representation $(7)$ of your classifier (section [2.2](#2.2)):\n",
    "\\begin{align}\n",
    "Z^{[1]} &= W^{[1]} X + b^{[1]},\\\\\n",
    "A^{[1]} &= \\sigma\\left(Z^{[1]}\\right),\\\\\n",
    "Z^{[2]} &= W^{[2]} A^{[1]} + b^{[2]},\\\\\n",
    "A^{[2]} &= \\sigma\\left(Z^{[2]}\\right).\\\\\n",
    "\\end{align}\n",
    "- The steps you have to implement are:\n",
    "    1. Retrieve each parameter from the dictionary \"parameters\" (which is the output of `initialize_parameters()`) by using `parameters[\"..\"]`.\n",
    "    2. Implement Forward Propagation. Compute `Z1` multiplying matrices `W1`, `X` and adding vector `b1`. Then find `A1` using the `sigmoid` activation function. Perform similar computations for `Z2` and `A2`."
   ]
  },
  {
   "cell_type": "code",
   "execution_count": null,
   "metadata": {
    "tags": [
     "graded"
    ]
   },
   "outputs": [],
   "source": [
    "# GRADED FUNCTION: forward_propagation\n",
    "\n",
    "def forward_propagation(X, parameters):\n",
    "    \"\"\"\n",
    "    Argument:\n",
    "    X -- input data of size (n_x, m)\n",
    "    parameters -- python dictionary containing your parameters (output of initialization function)\n",
    "    \n",
    "    Returns:\n",
    "    A2 -- the sigmoid output of the second activation\n",
    "    cache -- python dictionary containing Z1, A1, Z2, A2 \n",
    "    (that simplifies the calculations in the back propagation step)\n",
    "    \"\"\"\n",
    "    # Retrieve each parameter from the dictionary \"parameters\".\n",
    "    ### START CODE HERE ### (~ 4 lines of code)\n",
    "    W1 = None\n",
    "    b1 = None\n",
    "    W2 = None\n",
    "    b2 = None\n",
    "    ### END CODE HERE ###\n",
    "    \n",
    "    # Implement forward propagation to calculate A2.\n",
    "    ### START CODE HERE ### (~ 4 lines of code)\n",
    "    Z1 = None\n",
    "    A1 = None\n",
    "    Z2 = None\n",
    "    A2 = None\n",
    "    ### END CODE HERE ###\n",
    "    \n",
    "    assert(A2.shape == (n_y, X.shape[1]))\n",
    "\n",
    "    cache = {\"Z1\": Z1,\n",
    "             \"A1\": A1,\n",
    "             \"Z2\": Z2,\n",
    "             \"A2\": A2}\n",
    "    \n",
    "    return A2, cache"
   ]
  },
  {
   "cell_type": "code",
   "execution_count": null,
   "metadata": {
    "tags": [
     "graded"
    ]
   },
   "outputs": [],
   "source": [
    "A2, cache = forward_propagation(X, parameters)\n",
    "\n",
    "print(A2)"
   ]
  },
  {
   "cell_type": "markdown",
   "metadata": {},
   "source": [
    "##### __Expected Output__ \n",
    "Note: the elements of the array A2 maybe be different depending on the initial parameters. If you would like to get exactly the same output, try to restart the Kernel and rerun the notebook.\n",
    "\n",
    "```Python\n",
    "[[0.49920157 0.49922234 0.49921223 ... 0.49921215 0.49921043 0.49920665]]\n",
    "```"
   ]
  },
  {
   "cell_type": "code",
   "execution_count": null,
   "metadata": {},
   "outputs": [],
   "source": [
    "# Note: \n",
    "# Actual values are not checked here in the unit tests (due to random initialization).\n",
    "w3_unittest.test_forward_propagation(forward_propagation)"
   ]
  },
  {
   "cell_type": "markdown",
   "metadata": {},
   "source": [
    "Remember, that your weights were just initialized with some random values, so the model has not been trained yet. "
   ]
  },
  {
   "cell_type": "markdown",
   "metadata": {},
   "source": [
    "<a name='ex05'></a>\n",
    "### Exercise 5\n",
    "\n",
    "Define a cost function $(8)$ which will be used to train the model:\n",
    "\n",
    "$$\\mathcal{L}\\left(W, b\\right)  = \\frac{1}{m}\\sum_{i=1}^{m}  \\large\\left(\\small - y^{(i)}\\log\\left(a^{(i)}\\right) - (1-y^{(i)})\\log\\left(1- a^{(i)}\\right)  \\large  \\right) \\small.$$"
   ]
  },
  {
   "cell_type": "code",
   "execution_count": null,
   "metadata": {
    "tags": [
     "graded"
    ]
   },
   "outputs": [],
   "source": [
    "def compute_cost(A2, Y):\n",
    "    \"\"\"\n",
    "    Computes the cost function as a log loss\n",
    "    \n",
    "    Arguments:\n",
    "    A2 -- The output of the neural network of shape (1, number of examples)\n",
    "    Y -- \"true\" labels vector of shape (1, number of examples)\n",
    "    \n",
    "    Returns:\n",
    "    cost -- log loss\n",
    "    \n",
    "    \"\"\"\n",
    "    # Number of examples.\n",
    "    m = Y.shape[1]\n",
    "    \n",
    "    ### START CODE HERE ### (~ 2 lines of code)\n",
    "    logloss = None\n",
    "    cost = None\n",
    "    ### END CODE HERE ###\n",
    "\n",
    "    assert(isinstance(cost, float))\n",
    "    \n",
    "    return cost"
   ]
  },
  {
   "cell_type": "code",
   "execution_count": null,
   "metadata": {
    "tags": [
     "graded"
    ]
   },
   "outputs": [],
   "source": [
    "print(\"cost = \" + str(compute_cost(A2, Y)))"
   ]
  },
  {
   "cell_type": "markdown",
   "metadata": {},
   "source": [
    "##### __Expected Output__ \n",
    "Note: the elements of the arrays W1 and W2 maybe be different!\n",
    "\n",
    "```Python\n",
    "cost = 0.6931477703826823\n",
    "```"
   ]
  },
  {
   "cell_type": "code",
   "execution_count": null,
   "metadata": {},
   "outputs": [],
   "source": [
    "# Note: \n",
    "# Actual values are not checked here in the unit tests (due to random initialization).\n",
    "w3_unittest.test_compute_cost(compute_cost, A2)"
   ]
  },
  {
   "cell_type": "markdown",
   "metadata": {},
   "source": [
    "Calculate partial derivatives as shown in $(15)$:\n",
    "\n",
    "\\begin{align}\n",
    "\\frac{\\partial \\mathcal{L} }{ \\partial W^{[2]} } &= \n",
    "\\frac{1}{m}\\left(A^{[2]}-Y\\right)\\left(A^{[1]}\\right)^T,\\\\\n",
    "\\frac{\\partial \\mathcal{L} }{ \\partial b^{[2]} } &= \n",
    "\\frac{1}{m}\\left(A^{[2]}-Y\\right)\\mathbf{1},\\\\\n",
    "\\frac{\\partial \\mathcal{L} }{ \\partial W^{[1]}} &= \\frac{1}{m}\\left(\\left(W^{[2]}\\right)^T \\left(A^{[2]} - Y\\right)\\cdot \\left(A^{[1]}\\cdot\\left(1-A^{[1]}\\right)\\right)\\right)X^T,\\\\\n",
    "\\frac{\\partial \\mathcal{L} }{ \\partial b^{[1]}} &= \\frac{1}{m}\\left(\\left(W^{[2]}\\right)^T \\left(A^{[2]} - Y\\right)\\cdot \\left(A^{[1]}\\cdot\\left(1-A^{[1]}\\right)\\right)\\right)\\mathbf{1}.\\\\\n",
    "\\end{align}"
   ]
  },
  {
   "cell_type": "code",
   "execution_count": null,
   "metadata": {
    "tags": [
     "graded"
    ]
   },
   "outputs": [],
   "source": [
    "def backward_propagation(parameters, cache, X, Y):\n",
    "    \"\"\"\n",
    "    Implements the backward propagation, calculating gradients\n",
    "    \n",
    "    Arguments:\n",
    "    parameters -- python dictionary containing our parameters \n",
    "    cache -- python dictionary containing Z1, A1, Z2, A2\n",
    "    X -- input data of shape (n_x, number of examples)\n",
    "    Y -- \"true\" labels vector of shape (n_y, number of examples)\n",
    "    \n",
    "    Returns:\n",
    "    grads -- python dictionary containing gradients with respect to different parameters\n",
    "    \"\"\"\n",
    "    m = X.shape[1]\n",
    "    \n",
    "    # First, retrieve W from the dictionary \"parameters\".\n",
    "    W1 = parameters[\"W1\"]\n",
    "    W2 = parameters[\"W2\"]\n",
    "    \n",
    "    # Retrieve also A1 and A2 from dictionary \"cache\".\n",
    "    A1 = cache[\"A1\"]\n",
    "    A2 = cache[\"A2\"]\n",
    "    \n",
    "    # Backward propagation: calculate partial derivatives denoted as dW1, db1, dW2, db2 for simplicity. \n",
    "    dZ2 = A2 - Y\n",
    "    dW2 = 1/m * np.dot(dZ2, A1.T)\n",
    "    db2 = 1/m * np.sum(dZ2, axis = 1, keepdims = True)\n",
    "    dZ1 = np.dot(W2.T, dZ2) * A1 * (1 - A1)\n",
    "    dW1 = 1/m * np.dot(dZ1, X.T)\n",
    "    db1 = 1/m * np.sum(dZ1, axis = 1, keepdims = True)\n",
    "    \n",
    "    grads = {\"dW1\": dW1,\n",
    "             \"db1\": db1,\n",
    "             \"dW2\": dW2,\n",
    "             \"db2\": db2}\n",
    "    \n",
    "    return grads\n",
    "\n",
    "grads = backward_propagation(parameters, cache, X, Y)\n",
    "\n",
    "print(\"dW1 = \" + str(grads[\"dW1\"]))\n",
    "print(\"db1 = \" + str(grads[\"db1\"]))\n",
    "print(\"dW2 = \" + str(grads[\"dW2\"]))\n",
    "print(\"db2 = \" + str(grads[\"db2\"]))"
   ]
  },
  {
   "cell_type": "markdown",
   "metadata": {},
   "source": [
    "<a name='ex06'></a>\n",
    "### Exercise 6\n",
    "\n",
    "Implement `update_parameters()`.\n",
    "\n",
    "**Instructions**:\n",
    "- Update parameters as shown in $(9)$ (section [2.3](#2.3)):\n",
    "\\begin{align}\n",
    "W^{[1]} &= W^{[1]} - \\alpha \\frac{\\partial \\mathcal{L} }{ \\partial W^{[1]} },\\\\\n",
    "b^{[1]} &= b^{[1]} - \\alpha \\frac{\\partial \\mathcal{L} }{ \\partial b^{[1]} },\\\\\n",
    "W^{[2]} &= W^{[2]} - \\alpha \\frac{\\partial \\mathcal{L} }{ \\partial W^{[2]} },\\\\\n",
    "b^{[2]} &= b^{[2]} - \\alpha \\frac{\\partial \\mathcal{L} }{ \\partial b^{[2]} }.\\\\\n",
    "\\end{align}\n",
    "- The steps you have to implement are:\n",
    "    1. Retrieve each parameter from the dictionary \"parameters\" (which is the output of `initialize_parameters()`) by using `parameters[\"..\"]`.\n",
    "    2. Retrieve each derivative from the dictionary \"grads\" (which is the output of `backward_propagation()`) by using `grads[\"..\"]`.\n",
    "    3. Update parameters."
   ]
  },
  {
   "cell_type": "code",
   "execution_count": null,
   "metadata": {
    "tags": [
     "graded"
    ]
   },
   "outputs": [],
   "source": [
    "def update_parameters(parameters, grads, learning_rate=1.2):\n",
    "    \"\"\"\n",
    "    Updates parameters using the gradient descent update rule\n",
    "    \n",
    "    Arguments:\n",
    "    parameters -- python dictionary containing parameters \n",
    "    grads -- python dictionary containing gradients\n",
    "    learning_rate -- learning rate for gradient descent\n",
    "    \n",
    "    Returns:\n",
    "    parameters -- python dictionary containing updated parameters \n",
    "    \"\"\"\n",
    "    # Retrieve each parameter from the dictionary \"parameters\".\n",
    "    ### START CODE HERE ### (~ 4 lines of code)\n",
    "    W1 = None\n",
    "    b1 = None\n",
    "    W2 = None\n",
    "    b2 = None\n",
    "    ### END CODE HERE ###\n",
    "    \n",
    "    # Retrieve each gradient from the dictionary \"grads\".\n",
    "    ### START CODE HERE ### (~ 4 lines of code)\n",
    "    dW1 = None\n",
    "    db1 = None\n",
    "    dW2 = None\n",
    "    db2 = None\n",
    "    ### END CODE HERE ###\n",
    "    \n",
    "    # Update rule for each parameter.\n",
    "    ### START CODE HERE ### (~ 4 lines of code)\n",
    "    W1 = None\n",
    "    b1 = None\n",
    "    W2 = None\n",
    "    b2 = None\n",
    "    ### END CODE HERE ###\n",
    "    \n",
    "    parameters = {\"W1\": W1,\n",
    "                  \"b1\": b1,\n",
    "                  \"W2\": W2,\n",
    "                  \"b2\": b2}\n",
    "    \n",
    "    return parameters"
   ]
  },
  {
   "cell_type": "code",
   "execution_count": null,
   "metadata": {
    "tags": [
     "graded"
    ]
   },
   "outputs": [],
   "source": [
    "parameters_updated = update_parameters(parameters, grads)\n",
    "\n",
    "print(\"W1 updated = \" + str(parameters_updated[\"W1\"]))\n",
    "print(\"b1 updated = \" + str(parameters_updated[\"b1\"]))\n",
    "print(\"W2 updated = \" + str(parameters_updated[\"W2\"]))\n",
    "print(\"b2 updated = \" + str(parameters_updated[\"b2\"]))"
   ]
  },
  {
   "cell_type": "markdown",
   "metadata": {},
   "source": [
    "##### __Expected Output__ \n",
    "Note: the actual values can be different!\n",
    "\n",
    "```Python\n",
    "W1 updated = [[ 0.01790427  0.00434496]\n",
    " [ 0.00099046 -0.01866419]]\n",
    "b1 updated = [[-6.13449205e-07]\n",
    " [-8.47483463e-07]]\n",
    "W2 updated = [[-0.00238219 -0.00323487]]\n",
    "b2 updated = [[0.00094478]]\n",
    "```"
   ]
  },
  {
   "cell_type": "code",
   "execution_count": null,
   "metadata": {},
   "outputs": [],
   "source": [
    "w3_unittest.test_update_parameters(update_parameters)"
   ]
  },
  {
   "cell_type": "markdown",
   "metadata": {},
   "source": [
    "<a name='3.4'></a>\n",
    "### 3.4 - Integrate parts 3.1, 3.2 and 3.3 in nn_model()"
   ]
  },
  {
   "cell_type": "markdown",
   "metadata": {},
   "source": [
    "<a name='ex07'></a>\n",
    "### Exercise 7\n",
    "\n",
    "Build your neural network model in `nn_model()`.\n",
    "\n",
    "**Instructions**: The neural network model has to use the previous functions in the right order."
   ]
  },
  {
   "cell_type": "code",
   "execution_count": null,
   "metadata": {
    "tags": [
     "graded"
    ]
   },
   "outputs": [],
   "source": [
    "# GRADED FUNCTION: nn_model\n",
    "\n",
    "def nn_model(X, Y, n_h, num_iterations=10, learning_rate=1.2, print_cost=False):\n",
    "    \"\"\"\n",
    "    Arguments:\n",
    "    X -- dataset of shape (n_x, number of examples)\n",
    "    Y -- labels of shape (n_y, number of examples)\n",
    "    num_iterations -- number of iterations in the loop\n",
    "    learning_rate -- learning rate parameter for gradient descent\n",
    "    print_cost -- if True, print the cost every iteration\n",
    "    \n",
    "    Returns:\n",
    "    parameters -- parameters learnt by the model. They can then be used to predict.\n",
    "    \"\"\"\n",
    "    \n",
    "    n_x = layer_sizes(X, Y)[0]\n",
    "    n_y = layer_sizes(X, Y)[2]\n",
    "    \n",
    "    # Initialize parameters.\n",
    "    ### START CODE HERE ### (~ 1 line of code)\n",
    "    parameters = None\n",
    "    ### END CODE HERE ###\n",
    "    \n",
    "    # Loop.\n",
    "    for i in range(0, num_iterations):\n",
    "         \n",
    "        ### START CODE HERE ### (~ 4 lines of code)\n",
    "        # Forward propagation. Inputs: \"X, parameters\". Outputs: \"A2, cache\".\n",
    "        A2, cache = None\n",
    "        \n",
    "        # Cost function. Inputs: \"A2, Y\". Outputs: \"cost\".\n",
    "        cost = None\n",
    "        \n",
    "        # Backpropagation. Inputs: \"parameters, cache, X, Y\". Outputs: \"grads\".\n",
    "        grads = None\n",
    "        \n",
    "        # Gradient descent parameter update. Inputs: \"parameters, grads, learning_rate\". Outputs: \"parameters\".\n",
    "        parameters = None\n",
    "        ### END CODE HERE ###\n",
    "        \n",
    "        # Print the cost every iteration.\n",
    "        if print_cost:\n",
    "            print (\"Cost after iteration %i: %f\" %(i, cost))\n",
    "\n",
    "    return parameters"
   ]
  },
  {
   "cell_type": "code",
   "execution_count": null,
   "metadata": {
    "tags": [
     "graded"
    ]
   },
   "outputs": [],
   "source": [
    "parameters = nn_model(X, Y, n_h=2, num_iterations=3000, learning_rate=1.2, print_cost=True)\n",
    "print(\"W1 = \" + str(parameters[\"W1\"]))\n",
    "print(\"b1 = \" + str(parameters[\"b1\"]))\n",
    "print(\"W2 = \" + str(parameters[\"W2\"]))\n",
    "print(\"b2 = \" + str(parameters[\"b2\"]))\n",
    "\n",
    "W1 = parameters[\"W1\"]\n",
    "b1 = parameters[\"b1\"]\n",
    "W2 = parameters[\"W2\"]\n",
    "b2 = parameters[\"b2\"]"
   ]
  },
  {
   "cell_type": "markdown",
   "metadata": {},
   "source": [
    "##### __Expected Output__ \n",
    "Note: the actual values can be different!\n",
    "\n",
    "```Python\n",
    "Cost after iteration 0: 0.693148\n",
    "Cost after iteration 1: 0.693147\n",
    "Cost after iteration 2: 0.693147\n",
    "Cost after iteration 3: 0.693147\n",
    "Cost after iteration 4: 0.693147\n",
    "Cost after iteration 5: 0.693147\n",
    "...\n",
    "Cost after iteration 2995: 0.209524\n",
    "Cost after iteration 2996: 0.208025\n",
    "Cost after iteration 2997: 0.210427\n",
    "Cost after iteration 2998: 0.208929\n",
    "Cost after iteration 2999: 0.211306\n",
    "W1 = [[ 2.14274251 -1.93155541]\n",
    " [ 2.20268789 -2.1131799 ]]\n",
    "b1 = [[-4.83079243]\n",
    " [ 6.2845223 ]]\n",
    "W2 = [[-7.21370685  7.0898022 ]]\n",
    "b2 = [[-3.48755239]]\n",
    "```"
   ]
  },
  {
   "cell_type": "code",
   "execution_count": null,
   "metadata": {},
   "outputs": [],
   "source": [
    "# Note: \n",
    "# Actual values are not checked here in the unit tests (due to random initialization).\n",
    "w3_unittest.test_nn_model(nn_model)"
   ]
  },
  {
   "cell_type": "markdown",
   "metadata": {},
   "source": [
    "The final model parameters can be used to find the boundary line and for making predictions. "
   ]
  },
  {
   "cell_type": "markdown",
   "metadata": {},
   "source": [
    "<a name='ex08'></a>\n",
    "### Exercise 8\n",
    "\n",
    "Computes probabilities using forward propagation, and make classification to 0/1 using 0.5 as the threshold."
   ]
  },
  {
   "cell_type": "code",
   "execution_count": null,
   "metadata": {
    "tags": [
     "graded"
    ]
   },
   "outputs": [],
   "source": [
    "# GRADED FUNCTION: predict\n",
    "\n",
    "def predict(X, parameters):\n",
    "    \"\"\"\n",
    "    Using the learned parameters, predicts a class for each example in X\n",
    "    \n",
    "    Arguments:\n",
    "    parameters -- python dictionary containing your parameters \n",
    "    X -- input data of size (n_x, m)\n",
    "    \n",
    "    Returns\n",
    "    predictions -- vector of predictions of our model (blue: 0 / red: 1)\n",
    "    \"\"\"\n",
    "    \n",
    "    ### START CODE HERE ### (≈ 2 lines of code)\n",
    "    A2, cache = None\n",
    "    predictions = None\n",
    "    ### END CODE HERE ###\n",
    "    \n",
    "    return predictions"
   ]
  },
  {
   "cell_type": "code",
   "execution_count": null,
   "metadata": {
    "tags": [
     "graded"
    ]
   },
   "outputs": [],
   "source": [
    "X_pred = np.array([[2, 8, 2, 8], [2, 8, 8, 2]])\n",
    "Y_pred = predict(X_pred, parameters)\n",
    "\n",
    "print(f\"Coordinates (in the columns):\\n{X_pred}\")\n",
    "print(f\"Predictions:\\n{Y_pred}\")"
   ]
  },
  {
   "cell_type": "markdown",
   "metadata": {},
   "source": [
    "##### __Expected Output__ \n",
    "\n",
    "```Python\n",
    "Coordinates (in the columns):\n",
    "[[2 8 2 8]\n",
    " [2 8 8 2]]\n",
    "Predictions:\n",
    "[[ True  True False False]]\n",
    "```"
   ]
  },
  {
   "cell_type": "code",
   "execution_count": null,
   "metadata": {},
   "outputs": [],
   "source": [
    "w3_unittest.test_predict(predict)"
   ]
  },
  {
   "cell_type": "markdown",
   "metadata": {},
   "source": [
    "Let's visualize the boundary line. Do not worry if you don't understand the function `plot_decision_boundary` line by line - it simply makes prediction for some points on the plane and plots them as a contour plot (just two colors - blue and red)."
   ]
  },
  {
   "cell_type": "code",
   "execution_count": null,
   "metadata": {
    "tags": [
     "graded"
    ]
   },
   "outputs": [],
   "source": [
    "def plot_decision_boundary(predict, parameters, X, Y):\n",
    "    # Define bounds of the domain.\n",
    "    min1, max1 = X[0, :].min()-1, X[0, :].max()+1\n",
    "    min2, max2 = X[1, :].min()-1, X[1, :].max()+1\n",
    "    # Define the x and y scale.\n",
    "    x1grid = np.arange(min1, max1, 0.1)\n",
    "    x2grid = np.arange(min2, max2, 0.1)\n",
    "    # Create all of the lines and rows of the grid.\n",
    "    xx, yy = np.meshgrid(x1grid, x2grid)\n",
    "    # Flatten each grid to a vector.\n",
    "    r1, r2 = xx.flatten(), yy.flatten()\n",
    "    r1, r2 = r1.reshape((1, len(r1))), r2.reshape((1, len(r2)))\n",
    "    # Vertical stack vectors to create x1,x2 input for the model.\n",
    "    grid = np.vstack((r1,r2))\n",
    "    # Make predictions for the grid.\n",
    "    predictions = predict(grid, parameters)\n",
    "    # Reshape the predictions back into a grid.\n",
    "    zz = predictions.reshape(xx.shape)\n",
    "    # Plot the grid of x, y and z values as a surface.\n",
    "    plt.contourf(xx, yy, zz, cmap=plt.cm.Spectral.reversed())\n",
    "    plt.scatter(X[0, :], X[1, :], c=Y, cmap=colors.ListedColormap(['blue', 'red']));\n",
    "\n",
    "# Plot the decision boundary.\n",
    "plot_decision_boundary(predict, parameters, X, Y)\n",
    "plt.title(\"Decision Boundary for hidden layer size \" + str(n_h))"
   ]
  },
  {
   "cell_type": "markdown",
   "metadata": {},
   "source": [
    "That's great, you can see that more complicated classification problems can be solved with two layer neural network!"
   ]
  },
  {
   "cell_type": "markdown",
   "metadata": {},
   "source": [
    "<a name='4'></a>\n",
    "## 4 - Optional: Other Dataset"
   ]
  },
  {
   "cell_type": "markdown",
   "metadata": {},
   "source": [
    "Build a slightly different dataset:"
   ]
  },
  {
   "cell_type": "code",
   "execution_count": null,
   "metadata": {
    "tags": [
     "graded"
    ]
   },
   "outputs": [],
   "source": [
    "n_samples = 2000\n",
    "samples, labels = make_blobs(n_samples=n_samples, \n",
    "                             centers=([2.5, 3], [6.7, 7.9], [2.1, 7.9], [7.4, 2.8]), \n",
    "                             cluster_std=1.1,\n",
    "                             random_state=0)\n",
    "labels[(labels == 0)] = 0\n",
    "labels[(labels == 1)] = 1\n",
    "labels[(labels == 2) | (labels == 3)] = 1\n",
    "X_2 = np.transpose(samples)\n",
    "Y_2 = labels.reshape((1,n_samples))\n",
    "\n",
    "plt.scatter(X_2[0, :], X_2[1, :], c=Y_2, cmap=colors.ListedColormap(['blue', 'red']));"
   ]
  },
  {
   "cell_type": "markdown",
   "metadata": {},
   "source": [
    "Notice that when building your neural network, a number of the nodes in the hidden layer could be taken as a parameter. Try to change this parameter and investigate the results:"
   ]
  },
  {
   "cell_type": "code",
   "execution_count": null,
   "metadata": {
    "tags": [
     "graded"
    ]
   },
   "outputs": [],
   "source": [
    "# parameters_2 = nn_model(X_2, Y_2, n_h=1, num_iterations=3000, learning_rate=1.2, print_cost=False)\n",
    "parameters_2 = nn_model(X_2, Y_2, n_h=2, num_iterations=3000, learning_rate=1.2, print_cost=False)\n",
    "# parameters_2 = nn_model(X_2, Y_2, n_h=15, num_iterations=3000, learning_rate=1.2, print_cost=False)\n",
    "\n",
    "# This function will call predict function \n",
    "plot_decision_boundary(predict, parameters_2, X_2, Y_2)\n",
    "plt.title(\"Decision Boundary\")"
   ]
  },
  {
   "cell_type": "markdown",
   "metadata": {},
   "source": [
    "You can see that there are some misclassified points - real-world datasets are usually linearly inseparable, and there will be a small percentage of errors. More than that, you do not want to build a model that fits too closely, almost exactly to a particular set of data - it may fail to predict future observations. This problem is known as **overfitting**."
   ]
  },
  {
   "cell_type": "markdown",
   "metadata": {},
   "source": [
    "Congrats on finishing this programming assignment!"
   ]
  },
  {
   "cell_type": "code",
   "execution_count": null,
   "metadata": {
    "tags": [
     "graded"
    ]
   },
   "outputs": [],
   "source": []
  }
 ],
 "metadata": {
  "accelerator": "GPU",
  "colab": {
   "collapsed_sections": [],
   "name": "C1_W1_Assignment_Solution.ipynb",
   "provenance": []
  },
  "coursera": {
   "schema_names": [
    "AI4MC1-1"
   ]
  },
  "grader_version": "2",
  "kernelspec": {
   "display_name": "Python 3",
   "language": "python",
   "name": "python3"
  },
  "language_info": {
   "codemirror_mode": {
    "name": "ipython",
    "version": 3
   },
   "file_extension": ".py",
   "mimetype": "text/x-python",
   "name": "python",
   "nbconvert_exporter": "python",
   "pygments_lexer": "ipython3",
   "version": "3.8.8"
  },
  "toc": {
   "base_numbering": 1,
   "nav_menu": {},
   "number_sections": true,
   "sideBar": true,
   "skip_h1_title": false,
   "title_cell": "Table of Contents",
   "title_sidebar": "Contents",
   "toc_cell": false,
   "toc_position": {},
   "toc_section_display": true,
   "toc_window_display": false
  }
 },
 "nbformat": 4,
 "nbformat_minor": 1
}
