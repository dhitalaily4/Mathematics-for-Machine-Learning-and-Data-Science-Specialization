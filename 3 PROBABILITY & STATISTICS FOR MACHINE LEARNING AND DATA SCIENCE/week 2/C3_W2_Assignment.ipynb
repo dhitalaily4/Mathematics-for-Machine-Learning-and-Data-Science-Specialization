{
 "cells": [
  {
   "cell_type": "markdown",
   "id": "4caafec3",
   "metadata": {},
   "source": [
    "# Loaded dice \n",
    "\n",
    "Welcome to the second assignment in the course Probability and Statistics for Machine Learning and Data Science! In this quiz-like assignment you will test your intuition about the concepts covered in the lectures by taking the example with the dice to the next level. \n",
    "\n",
    "**This assignment can be completed with just pencil and paper, or even your intuition about probability, but in many questions using the skills you're developing as a programmer may help**. "
   ]
  },
  {
   "cell_type": "markdown",
   "id": "3bff9c20",
   "metadata": {},
   "source": [
    "## 1 - Introduction\n",
    "\n",
    "You will be presented with 11 questions regarding a several dice games. Sometimes the dice is loaded, sometimes it is not. You will have clear instructions for each exercise.\n",
    "\n",
    "### 1.1 How to go through the assignment\n",
    "\n",
    "In each exercise you there will be a question about throwing some dice that may or may not be loaded. You will have to answer questions about the results of each scenario, such as calculating the expected value of the dice throw or selecting the graph that best represents the distribution of outcomes. \n",
    "\n",
    "In any case, **you will be able to solve the exercise with one of the following methods:**\n",
    "\n",
    "- **By hand:** You may make your calculations by hand, using the theory you have developed in the lectures.\n",
    "- **Using Python:** You may use the empty block of code provided to make computations and simulations, to obtain the result.\n",
    "\n",
    "After each exercise you will save your solution by running a special code cell and adding your answer. The cells contain a single line of code in the format `utils.exercise_1()` which will launch the interface in which you can save your answer. **You will save your responses to each exercise as you go, but you won't submit all your responses for grading until you submit this assignment at the end.**\n",
    "\n",
    "Let's go over an example! Before, let's import the necessary libraries."
   ]
  },
  {
   "cell_type": "markdown",
   "id": "3d256624",
   "metadata": {},
   "source": [
    "## 2 - Importing the libraries"
   ]
  },
  {
   "cell_type": "code",
   "execution_count": 1,
   "id": "da0fcf2f",
   "metadata": {},
   "outputs": [],
   "source": [
    "import numpy as np\n",
    "import pandas as pd\n",
    "import seaborn as sns\n",
    "import matplotlib.pyplot as plt\n",
    "import utils"
   ]
  },
  {
   "cell_type": "markdown",
   "id": "e1637bc9",
   "metadata": {},
   "source": [
    "## 3 - A worked example on how to complete this assignment.\n",
    "\n",
    "Now let's go over one example question, so you understand how to go through the assignment.\n",
    "\n",
    "### 3.1 Example question\n",
    "\n",
    "Question: Given a 6-sided fair dice, you throw it two times and save the result. What is the probability that the sum of your two throws is greater than 5? (Give your result with 1 decimal place).\n",
    "\n",
    "After the question, you will see the following block of code."
   ]
  },
  {
   "cell_type": "code",
   "execution_count": 2,
   "id": "c789233e",
   "metadata": {},
   "outputs": [
    {
     "name": "stdout",
     "output_type": "stream",
     "text": [
      "Probability that the sum of two throws is greater than 5: 0.7\n"
     ]
    }
   ],
   "source": [
    "# You can use this cell for your calculations (not graded)\n",
    "def probability_sum_greater_than_5():\n",
    "    # Total possible outcomes\n",
    "    total_outcomes = 6 * 6\n",
    "\n",
    "    # Count outcomes where sum is greater than 5\n",
    "    favorable_outcomes = 0\n",
    "    for i in range(1, 7):\n",
    "        for j in range(1, 7):\n",
    "            if i + j > 5:\n",
    "                favorable_outcomes += 1\n",
    "\n",
    "    # Calculate probability\n",
    "    probability = favorable_outcomes / total_outcomes\n",
    "\n",
    "    return round(probability, 1)\n",
    "\n",
    "# Menghitung dan mencetak probabilitas\n",
    "print(\"Probability that the sum of two throws is greater than 5:\", probability_sum_greater_than_5())"
   ]
  },
  {
   "cell_type": "markdown",
   "id": "02528065",
   "metadata": {},
   "source": [
    "You may use it as you wish to solve the exercise. Or you can just ignore it and use pencil and pen to solve. It is up to you! **You will only save your final answer**. \n",
    "\n",
    "### 3.2 Solving using simulations in Python\n",
    "\n",
    "Let's solve this question in both ways. First, using Python. You may check the ungraded lab Dice Simulations that appears right before this assignment to help you simulate dice throws. Remember that, to get a good approximation, you need to simulate it a lot of times! You will see why this is true in the following weeks, but this is quite intuitive."
   ]
  },
  {
   "cell_type": "code",
   "execution_count": 3,
   "id": "309a3457",
   "metadata": {},
   "outputs": [
    {
     "name": "stdout",
     "output_type": "stream",
     "text": [
      "The probability by this simulation is: 0.719\n"
     ]
    }
   ],
   "source": [
    "# You can use this cell for your calculations (not graded)\n",
    "\n",
    "# This list represents each dice side\n",
    "dice = [1,2,3,4,5,6]\n",
    "\n",
    "# The idea is to randomly choose one element from this list three times and sum them. \n",
    "# Each time we choose, it is as if we had thrown a dice and the side is the chosen number.\n",
    "# This list will store the sum for each iteration. The idea is to repeat this experiment several times.\n",
    "sum_results = []\n",
    "\n",
    "number_iterations = 1000\n",
    "\n",
    "# Setting a random seed just for reproducibility\n",
    "np.random.seed(42)\n",
    "# It will play this game number_iteration times\n",
    "for i in range(number_iterations):\n",
    "    # Throw the first dice\n",
    "    throw_1 = np.random.choice(dice)\n",
    "    # Throw the second dice\n",
    "    throw_2 = np.random.choice(dice)\n",
    "    # Sum the result\n",
    "    sum_throw = throw_1 + throw_2\n",
    "    # Append to the sum_result list\n",
    "    sum_results.append(sum_throw)\n",
    "\n",
    "# After recording all the sums, the actual probability will be very close to the proportion among every sum greater than 10 in the sum_results list.\n",
    "greater_5_count = 0\n",
    "\n",
    "for x in sum_results:\n",
    "    if x > 5:\n",
    "        greater_5_count += 1\n",
    "\n",
    "probability = greater_5_count/len(sum_results)    \n",
    "print(f\"The probability by this simulation is: {probability}\")"
   ]
  },
  {
   "cell_type": "markdown",
   "id": "37524317",
   "metadata": {},
   "source": [
    "So the result you would get, rounding in to decimal place, would be 0.7! Let's solve it \"by hand\".\n",
    "\n",
    "### 3.3 Solving using the theory\n",
    "\n",
    "When throwing two dice, there are $36$ possible outcomes:\n",
    "\n",
    "$$(1,1), (1,2), \\ldots, (6,6)$$\n",
    "\n",
    "You must count how many of them lead to a sum greater than 5. They are:\n",
    "\n",
    "* If the first throw is $1$, there are $2$ possibilities for the second throw: 5 or 6.\n",
    "* If the first throw is $2$, there are $3$ possibilities for the second throw: 4, 5 or 6.\n",
    "* If the first throw is $3$, there are $4$ possibilities for the second throw: 3, 4, 5 or 6.\n",
    "* If the first throw is $4$, there are $5$ possibilities for the second throw: 2, 3, 4, 5 or 6.\n",
    "* If the first throw is $5$, there are $6$ possibilities for the second throw: 1, 2, 3, 4, 5 or 6.\n",
    "* If the first throw is $6$, there are $6$ possibilities for the second throw: 1, 2, 3, 4, 5 or 6.\n",
    "\n",
    "So, in total there are $2 + 3 + 4 + 5 + 6 + 6 = 26$, possibilities that sum greater than 5.\n",
    "\n",
    "The probability is then $\\frac{26}{36} \\approx 0.72$. Rounding it to 1 decimal place, the result is also 0.7!\n"
   ]
  },
  {
   "cell_type": "markdown",
   "id": "29b9f3ed",
   "metadata": {},
   "source": [
    "### 3.4 Saving your answer\n",
    "\n",
    "Once you get your answer in hands, it is time to save it. Run the next code below to see what it will look like. You just add your answer as requested and click on \"Save your answer!\""
   ]
  },
  {
   "cell_type": "code",
   "execution_count": 4,
   "id": "38539358",
   "metadata": {},
   "outputs": [
    {
     "data": {
      "application/vnd.jupyter.widget-view+json": {
       "model_id": "767261e4311b4cb4accb78739cd73a80",
       "version_major": 2,
       "version_minor": 0
      },
      "text/plain": [
       "FloatText(value=0.0, description='Probability:')"
      ]
     },
     "metadata": {},
     "output_type": "display_data"
    },
    {
     "data": {
      "application/vnd.jupyter.widget-view+json": {
       "model_id": "b256387e9d4540de91a3f086191fa18c",
       "version_major": 2,
       "version_minor": 0
      },
      "text/plain": [
       "Button(button_style='success', description='Save your answer!', style=ButtonStyle())"
      ]
     },
     "metadata": {},
     "output_type": "display_data"
    },
    {
     "data": {
      "application/vnd.jupyter.widget-view+json": {
       "model_id": "0421dc97e4474b999105dd5f71198efa",
       "version_major": 2,
       "version_minor": 0
      },
      "text/plain": [
       "Output()"
      ]
     },
     "metadata": {},
     "output_type": "display_data"
    }
   ],
   "source": [
    "utils.exercise_example()"
   ]
  },
  {
   "cell_type": "markdown",
   "id": "73d4776c",
   "metadata": {},
   "source": [
    "And that's it! Once you save one question, you can go to the next one. If you want to change your solution, just run the code again and input the new solution, it will overwrite the previous one. At the end of the assignment, you will be able to check if you have forgotten to save any question. \n",
    "\n",
    "Once you finish the assignment, you may submit it as you usually would. Your most recently save answers to each exercise will then be graded."
   ]
  },
  {
   "cell_type": "markdown",
   "id": "4546a127",
   "metadata": {},
   "source": [
    "## 4 - Some concept clarifications 🎲🎲🎲\n",
    "\n",
    "During this assignment you will be presented with various scenarios that involve dice. Usually dice can have different numbers of sides and can be either fair or loaded.\n",
    "\n",
    "- A fair dice has equal probability of landing on every side.\n",
    "- A loaded dice does not have equal probability of landing on every side. Usually one (or more) sides have a greater probability of showing up than the rest.\n",
    "\n",
    "Alright, that's all your need to know to complete this assignment. Time to start rolling some dice!"
   ]
  },
  {
   "cell_type": "markdown",
   "id": "c8f09f02",
   "metadata": {},
   "source": [
    "## Exercise 1:\n",
    "\n"
   ]
  },
  {
   "cell_type": "markdown",
   "id": "3510c610",
   "metadata": {},
   "source": [
    "Given a 6-sided fair dice (all of the sides have equal probability of showing up), compute the mean and variance for the probability distribution that models said dice. The next figure shows you a visual represenatation of said distribution:\n",
    "\n",
    "<img src=\"./images/fair_dice.png\" style=\"height: 300px;\"/>\n",
    "\n",
    "**Submission considerations:**\n",
    "- Submit your answers as floating point numbers with three digits after the decimal point\n",
    "- Example: To submit the value of 1/4 enter 0.250"
   ]
  },
  {
   "cell_type": "markdown",
   "id": "5ee9b479",
   "metadata": {},
   "source": [
    "Hints: \n",
    "- You can use [np.random.choice](https://numpy.org/doc/stable/reference/random/generated/numpy.random.choice.html) to simulate a fair dice.\n",
    "- You can use [np.mean](https://numpy.org/doc/stable/reference/generated/numpy.mean.html) and [np.var](https://numpy.org/doc/stable/reference/generated/numpy.var.html) to compute the mean and variance of a numpy array."
   ]
  },
  {
   "cell_type": "code",
   "execution_count": 5,
   "id": "df437e8e",
   "metadata": {},
   "outputs": [
    {
     "name": "stdout",
     "output_type": "stream",
     "text": [
      "Mean: 3.5\n",
      "Variance: 2.915\n"
     ]
    }
   ],
   "source": [
    "# You can use this cell for your calculations (not graded)\n",
    "def mean_and_variance_simulation():\n",
    "    # Simulasi lemparan dadu\n",
    "    dice_rolls = np.random.choice(np.arange(1, 7), size=1000000)  # Simulasi 1 juta lemparan\n",
    "\n",
    "    # Menghitung mean dan variance\n",
    "    mean = np.mean(dice_rolls)\n",
    "    variance = np.var(dice_rolls)\n",
    "\n",
    "    return round(mean, 3), round(variance, 3)\n",
    "\n",
    "# Menghitung dan mencetak mean dan variance dengan simulasi\n",
    "mean, variance = mean_and_variance_simulation()\n",
    "print(\"Mean:\", mean)\n",
    "print(\"Variance:\", variance)\n"
   ]
  },
  {
   "cell_type": "code",
   "execution_count": 6,
   "id": "db9477e7",
   "metadata": {},
   "outputs": [
    {
     "data": {
      "application/vnd.jupyter.widget-view+json": {
       "model_id": "dd9886aa60db46459c347b2802c41053",
       "version_major": 2,
       "version_minor": 0
      },
      "text/plain": [
       "FloatText(value=0.0, description='Mean:')"
      ]
     },
     "metadata": {},
     "output_type": "display_data"
    },
    {
     "data": {
      "application/vnd.jupyter.widget-view+json": {
       "model_id": "743eb2a371554c0090cfae9a6a33aac1",
       "version_major": 2,
       "version_minor": 0
      },
      "text/plain": [
       "FloatText(value=0.0, description='Variance:')"
      ]
     },
     "metadata": {},
     "output_type": "display_data"
    },
    {
     "data": {
      "application/vnd.jupyter.widget-view+json": {
       "model_id": "2e8060f217164f0787e973c79b0b19b6",
       "version_major": 2,
       "version_minor": 0
      },
      "text/plain": [
       "Button(button_style='success', description='Save your answer!', style=ButtonStyle())"
      ]
     },
     "metadata": {},
     "output_type": "display_data"
    },
    {
     "data": {
      "application/vnd.jupyter.widget-view+json": {
       "model_id": "51d1da49717749e6a12e2f1c4b9e9c96",
       "version_major": 2,
       "version_minor": 0
      },
      "text/plain": [
       "Output()"
      ]
     },
     "metadata": {},
     "output_type": "display_data"
    }
   ],
   "source": [
    "# Run this cell to submit your answer\n",
    "utils.exercise_1()"
   ]
  },
  {
   "cell_type": "markdown",
   "id": "d43dcbbd",
   "metadata": {},
   "source": [
    "## Exercise 2:\n",
    "\n",
    "Now suppose you are throwing the dice (same dice as in the previous exercise) two times and recording the sum of each throw. Which of the following `probability mass functions` will be the one you should get?\n",
    "\n",
    "<table><tr>\n",
    "<td> <img src=\"./images/hist_sum_6_side.png\" style=\"height: 300px;\"/> </td>\n",
    "<td> <img src=\"./images/hist_sum_5_side.png\" style=\"height: 300px;\"/> </td>\n",
    "<td> <img src=\"./images/hist_sum_6_uf.png\" style=\"height: 300px;\"/> </td>\n",
    "</tr></table>\n"
   ]
  },
  {
   "cell_type": "markdown",
   "id": "605c58c0",
   "metadata": {},
   "source": [
    "Hints: \n",
    "- You can use numpy arrays to hold the results of many throws.\n",
    "- You can sum to numpy arrays by using the `+` operator like this: `sum = first_throw + second_throw`\n",
    "- To simulate multiple throws of a dice you can use list comprehension or a for loop"
   ]
  },
  {
   "cell_type": "code",
   "execution_count": 7,
   "id": "e9a8b2ed",
   "metadata": {},
   "outputs": [
    {
     "data": {
      "image/png": "[encoded data removed]",
      "text/plain": [
       "<Figure size 640x480 with 1 Axes>"
      ]
     },
     "metadata": {},
     "output_type": "display_data"
    }
   ],
   "source": [
    "# You can use this cell for your calculations (not graded)\n",
    "# Simulasi banyak lemparan dadu\n",
    "num_simulations = 1000000\n",
    "first_throw = np.random.randint(1, 7, size=num_simulations)\n",
    "second_throw = np.random.randint(1, 7, size=num_simulations)\n",
    "\n",
    "# Penjumlahan hasil dari dua lemparan\n",
    "sum_of_throws = first_throw + second_throw\n",
    "\n",
    "# Menghitung frekuensi kemunculan setiap hasil penjumlahan\n",
    "unique_values, counts = np.unique(sum_of_throws, return_counts=True)\n",
    "pmf = counts / num_simulations\n",
    "\n",
    "# Memplot grafik PMF\n",
    "plt.bar(unique_values, pmf, color='skyblue')\n",
    "plt.title('Probability Mass Function (PMF) of the Sum of Two Dice Throws')\n",
    "plt.xlabel('Sum of Two Throws')\n",
    "plt.ylabel('Probability')\n",
    "plt.xticks(np.arange(2, 13))\n",
    "plt.grid(axis='y', linestyle='--', alpha=0.7)\n",
    "plt.show()\n"
   ]
  },
  {
   "cell_type": "code",
   "execution_count": 8,
   "id": "d4d5dcf9",
   "metadata": {},
   "outputs": [
    {
     "data": {
      "application/vnd.jupyter.widget-view+json": {
       "model_id": "fd34095b91f34bb586b9cdb9a2dcba37",
       "version_major": 2,
       "version_minor": 0
      },
      "text/plain": [
       "ToggleButtons(description='Your answer:', options=('left', 'center', 'right'), value='left')"
      ]
     },
     "metadata": {},
     "output_type": "display_data"
    },
    {
     "data": {
      "application/vnd.jupyter.widget-view+json": {
       "model_id": "817e8fc02f1141b7a0ae8fd71b0a25a0",
       "version_major": 2,
       "version_minor": 0
      },
      "text/plain": [
       "Button(button_style='success', description='Save your answer!', style=ButtonStyle())"
      ]
     },
     "metadata": {},
     "output_type": "display_data"
    },
    {
     "data": {
      "application/vnd.jupyter.widget-view+json": {
       "model_id": "110111be80204b0aa27f5f86f307cc61",
       "version_major": 2,
       "version_minor": 0
      },
      "text/plain": [
       "Output()"
      ]
     },
     "metadata": {},
     "output_type": "display_data"
    }
   ],
   "source": [
    "# Run this cell to submit your answer\n",
    "utils.exercise_2()"
   ]
  },
  {
   "cell_type": "markdown",
   "id": "adfb889c",
   "metadata": {},
   "source": [
    "## Exercise 3:\n",
    "\n",
    "Given a fair 4-sided dice, you throw it two times and record the sum. The figure on the left shows the probabilities of the dice landing on each side and the right figure the histogram of the sum. Fill out the probabilities of each sum (notice that the distribution of the sum is symetrical so you only need to input 4 values in total):\n",
    "\n",
    "<img src=\"./images/4_side_hists.png\" style=\"height: 300px;\"/>\n",
    "\n",
    "**Submission considerations:**\n",
    "- Submit your answers as floating point numbers with three digits after the decimal point\n",
    "- Example: To submit the value of 1/4 enter 0.250"
   ]
  },
  {
   "cell_type": "code",
   "execution_count": 35,
   "id": "342ca685",
   "metadata": {},
   "outputs": [
    {
     "data": {
      "image/png": "[encoded data removed]",
      "text/plain": [
       "<Figure size 640x480 with 1 Axes>"
      ]
     },
     "metadata": {},
     "output_type": "display_data"
    }
   ],
   "source": [
    "# You can use this cell for your calculations (not graded)\n",
    "np.random.seed(0)\n",
    "num_trials = 1000000\n",
    "first_throw = np.random.choice([1, 2, 3, 4], size=num_trials)\n",
    "second_throw = np.random.choice([1, 2, 3, 4], size=num_trials)\n",
    "sums = first_throw + second_throw\n",
    "\n",
    "plt.hist(sums, bins=range(2, 10), align='left', rwidth=0.8, density=True)\n",
    "plt.xticks(range(2, 9))\n",
    "plt.xlabel('Sum of dice')\n",
    "plt.ylabel('Probability')\n",
    "plt.title('Histogram of sum')\n",
    "plt.show()\n"
   ]
  },
  {
   "cell_type": "code",
   "execution_count": 41,
   "id": "e0a24beb",
   "metadata": {},
   "outputs": [
    {
     "data": {
      "application/vnd.jupyter.widget-view+json": {
       "model_id": "36d9168db1e64351abefcc5c1a14156f",
       "version_major": 2,
       "version_minor": 0
      },
      "text/plain": [
       "FloatText(value=0.0, description='P for sum=2|8', style=DescriptionStyle(description_width='initial'))"
      ]
     },
     "metadata": {},
     "output_type": "display_data"
    },
    {
     "data": {
      "application/vnd.jupyter.widget-view+json": {
       "model_id": "9ea96e427b62479bb4bb612df4317621",
       "version_major": 2,
       "version_minor": 0
      },
      "text/plain": [
       "FloatText(value=0.0, description='P for sum=3|7:', style=DescriptionStyle(description_width='initial'))"
      ]
     },
     "metadata": {},
     "output_type": "display_data"
    },
    {
     "data": {
      "application/vnd.jupyter.widget-view+json": {
       "model_id": "889dd65225b141a2892bda9d51bfd651",
       "version_major": 2,
       "version_minor": 0
      },
      "text/plain": [
       "FloatText(value=0.0, description='P for sum=4|6:', style=DescriptionStyle(description_width='initial'))"
      ]
     },
     "metadata": {},
     "output_type": "display_data"
    },
    {
     "data": {
      "application/vnd.jupyter.widget-view+json": {
       "model_id": "8f0356acac2c41f18f65dae4619058ea",
       "version_major": 2,
       "version_minor": 0
      },
      "text/plain": [
       "FloatText(value=0.0, description='P for sum=5:', style=DescriptionStyle(description_width='initial'))"
      ]
     },
     "metadata": {},
     "output_type": "display_data"
    },
    {
     "data": {
      "application/vnd.jupyter.widget-view+json": {
       "model_id": "376d03353a09414e8c85bf6cd04d43e1",
       "version_major": 2,
       "version_minor": 0
      },
      "text/plain": [
       "Button(button_style='success', description='Save your answer!', style=ButtonStyle())"
      ]
     },
     "metadata": {},
     "output_type": "display_data"
    },
    {
     "data": {
      "application/vnd.jupyter.widget-view+json": {
       "model_id": "2c8b49713086479596f0f1a690506019",
       "version_major": 2,
       "version_minor": 0
      },
      "text/plain": [
       "Output()"
      ]
     },
     "metadata": {},
     "output_type": "display_data"
    }
   ],
   "source": [
    "# Run this cell to submit your answer\n",
    "utils.exercise_3()"
   ]
  },
  {
   "cell_type": "markdown",
   "id": "108837bd",
   "metadata": {},
   "source": [
    "## Exercise 4:\n",
    "\n",
    "Using the same scenario as in the previous exercise. Compute the mean and variance of the sum of the two throws  and the covariance between the first and the second throw:\n",
    "\n",
    "<img src=\"./images/4_sided_hist_no_prob.png\" style=\"height: 300px;\"/>\n",
    "\n",
    "\n",
    "Hints:\n",
    "- You can use [np.cov](https://numpy.org/doc/stable/reference/generated/numpy.cov.html) to compute the covariance of two numpy arrays (this may not be needed for this particular exercise)."
   ]
  },
  {
   "cell_type": "code",
   "execution_count": 16,
   "id": "f4eadc3c",
   "metadata": {},
   "outputs": [
    {
     "name": "stdout",
     "output_type": "stream",
     "text": [
      "Mean of Sum: 5.0\n",
      "Variance of Sum: 2.5\n",
      "Covariance between the First and the Second Throw: 0.0\n"
     ]
    }
   ],
   "source": [
    "# You can use this cell for your calculations (not graded)\n",
    "# Probabilitas pendaratan dadu di setiap sisi\n",
    "probabilitas = 0.25\n",
    "\n",
    "# Kemungkinan hasil lemparan dadu pertama dan kedua\n",
    "hasil_dadu = [1, 2, 3, 4]\n",
    "\n",
    "# Menghitung semua kombinasi hasil lemparan dadu pertama dan kedua\n",
    "kombinasi = [(x1, x2) for x1 in hasil_dadu for x2 in hasil_dadu]\n",
    "\n",
    "# Probabilitas masing-masing kombinasi hasil\n",
    "prob_kombinasi = [probabilitas * probabilitas for _ in kombinasi]\n",
    "\n",
    "# Menghitung jumlah dari dua lemparan\n",
    "jumlah = [x1 + x2 for x1, x2 in kombinasi]\n",
    "\n",
    "# Menghitung mean dari jumlah\n",
    "mean_sum = sum(jumlah[i] * prob_kombinasi[i] for i in range(len(kombinasi)))\n",
    "\n",
    "# Menghitung variance dari jumlah\n",
    "variance_sum = sum(((jumlah[i] - mean_sum) ** 2) * prob_kombinasi[i] for i in range(len(kombinasi)))\n",
    "\n",
    "# Menghitung covariance antara lemparan pertama dan kedua\n",
    "covariance = sum(((kombinasi[i][0] - 2.5) * (kombinasi[i][1] - 2.5)) * prob_kombinasi[i] for i in range(len(kombinasi)))\n",
    "\n",
    "print(\"Mean of Sum:\", round(mean_sum, 3))\n",
    "print(\"Variance of Sum:\", round(variance_sum, 3))\n",
    "print(\"Covariance between the First and the Second Throw:\", round(covariance, 3))"
   ]
  },
  {
   "cell_type": "code",
   "execution_count": 13,
   "id": "4e662b9b",
   "metadata": {},
   "outputs": [
    {
     "data": {
      "application/vnd.jupyter.widget-view+json": {
       "model_id": "9d417fb7c03f4feeb0f40e4669465c9b",
       "version_major": 2,
       "version_minor": 0
      },
      "text/plain": [
       "FloatText(value=0.0, description='Mean:')"
      ]
     },
     "metadata": {},
     "output_type": "display_data"
    },
    {
     "data": {
      "application/vnd.jupyter.widget-view+json": {
       "model_id": "63cfed9e55e046d7bb1e8b6ea62250bb",
       "version_major": 2,
       "version_minor": 0
      },
      "text/plain": [
       "FloatText(value=0.0, description='Variance:')"
      ]
     },
     "metadata": {},
     "output_type": "display_data"
    },
    {
     "data": {
      "application/vnd.jupyter.widget-view+json": {
       "model_id": "9dcb11ab5360470da56175d4958e3e9b",
       "version_major": 2,
       "version_minor": 0
      },
      "text/plain": [
       "FloatText(value=0.0, description='Covariance:')"
      ]
     },
     "metadata": {},
     "output_type": "display_data"
    },
    {
     "data": {
      "application/vnd.jupyter.widget-view+json": {
       "model_id": "9f67c59f87474c0bb03ed61d121ac64e",
       "version_major": 2,
       "version_minor": 0
      },
      "text/plain": [
       "Button(button_style='success', description='Save your answer!', style=ButtonStyle())"
      ]
     },
     "metadata": {},
     "output_type": "display_data"
    },
    {
     "data": {
      "application/vnd.jupyter.widget-view+json": {
       "model_id": "bed239c2e9464da18263bc46c8b3d58d",
       "version_major": 2,
       "version_minor": 0
      },
      "text/plain": [
       "Output()"
      ]
     },
     "metadata": {},
     "output_type": "display_data"
    }
   ],
   "source": [
    "# Run this cell to submit your answer\n",
    "utils.exercise_4()"
   ]
  },
  {
   "cell_type": "markdown",
   "id": "714e099b",
   "metadata": {},
   "source": [
    "## Exercise 5:\n",
    "\n",
    "\n",
    "Now suppose you are have a loaded 4-sided dice (it is loaded so that it lands twice as often on side 2 compared to the other sides): \n",
    "\n",
    "\n",
    "<img src=\"./images/4_side_uf.png\" style=\"height: 300px;\"/>\n",
    "\n",
    "You are throwing it two times and recording the sum of each throw. Which of the following `probability mass functions` will be the one you should get?\n",
    "\n",
    "<table><tr>\n",
    "<td> <img src=\"./images/hist_sum_4_4l.png\" style=\"height: 300px;\"/> </td>\n",
    "<td> <img src=\"./images/hist_sum_4_3l.png\" style=\"height: 300px;\"/> </td>\n",
    "<td> <img src=\"./images/hist_sum_4_uf.png\" style=\"height: 300px;\"/> </td>\n",
    "</tr></table>"
   ]
  },
  {
   "cell_type": "markdown",
   "id": "ecb27c1b",
   "metadata": {},
   "source": [
    "Hints: \n",
    "- You can use the `p` parameter of [np.random.choice](https://numpy.org/doc/stable/reference/random/generated/numpy.random.choice.html) to simulate a loaded dice."
   ]
  },
  {
   "cell_type": "code",
   "execution_count": 17,
   "id": "a35573ec",
   "metadata": {},
   "outputs": [
    {
     "data": {
      "image/png": "[encoded data removed]",
      "text/plain": [
       "<Figure size 640x480 with 1 Axes>"
      ]
     },
     "metadata": {},
     "output_type": "display_data"
    }
   ],
   "source": [
    "# You can use this cell for your calculations (not graded)\n",
    "def plot_pmf_loaded_dice():\n",
    "    # Define the probabilities of each side of the dice\n",
    "    probabilities = [1/5, 2/5, 1/5, 1/5]\n",
    "    # Normalize the probabilities to sum up to 1\n",
    "    probabilities = np.array(probabilities) / sum(probabilities)\n",
    "\n",
    "    # Perform the two throws and calculate the sum\n",
    "    throws = np.random.choice([1, 2, 3, 4], size=(10000, 2), p=probabilities)\n",
    "    sums = np.sum(throws, axis=1)\n",
    "\n",
    "    # Calculate the PMF for each possible sum\n",
    "    unique_sums, counts = np.unique(sums, return_counts=True)\n",
    "    pmf = counts / len(sums)\n",
    "\n",
    "    # Plot the PMF using seaborn\n",
    "    sns.barplot(x=unique_sums, y=pmf, color='blue')\n",
    "    plt.xlabel('Sum of Two Throws')\n",
    "    plt.ylabel('Probability')\n",
    "    plt.title('Probability Mass Function (PMF) of Sum of Two Throws')\n",
    "    plt.show()\n",
    "\n",
    "plot_pmf_loaded_dice()\n"
   ]
  },
  {
   "cell_type": "code",
   "execution_count": 18,
   "id": "3104e647",
   "metadata": {},
   "outputs": [
    {
     "data": {
      "application/vnd.jupyter.widget-view+json": {
       "model_id": "afec343211684577a1dc78df42c8aea7",
       "version_major": 2,
       "version_minor": 0
      },
      "text/plain": [
       "ToggleButtons(description='Your answer:', options=('left', 'center', 'right'), value='left')"
      ]
     },
     "metadata": {},
     "output_type": "display_data"
    },
    {
     "data": {
      "application/vnd.jupyter.widget-view+json": {
       "model_id": "2bb3d98581e24cdc8c3721c104935c36",
       "version_major": 2,
       "version_minor": 0
      },
      "text/plain": [
       "Button(button_style='success', description='Save your answer!', style=ButtonStyle())"
      ]
     },
     "metadata": {},
     "output_type": "display_data"
    },
    {
     "data": {
      "application/vnd.jupyter.widget-view+json": {
       "model_id": "17bc3eabdad845e090e55745dac90b1b",
       "version_major": 2,
       "version_minor": 0
      },
      "text/plain": [
       "Output()"
      ]
     },
     "metadata": {},
     "output_type": "display_data"
    }
   ],
   "source": [
    "# Run this cell to submit your answer\n",
    "utils.exercise_5()"
   ]
  },
  {
   "cell_type": "markdown",
   "id": "0d0f3429",
   "metadata": {},
   "source": [
    "## Exercise 6:\n",
    "\n",
    "You have a 6-sided dice that is loaded so that it lands twice as often on side 3 compared to the other sides:\n",
    "\n",
    "<img src=\"./images/loaded_6_side.png\" style=\"height: 300px;\"/>\n",
    "\n",
    "You record the sum of throwing it twice. What is the highest value (of the sum) that will yield a cumulative probability lower or equal to 0.5?\n",
    "\n",
    "<img src=\"./images/loaded_6_cdf.png\" style=\"height: 300px;\"/>\n",
    "\n",
    "Hints:\n",
    "- The probability of side 3 is equal to $\\frac{2}{7}$"
   ]
  },
  {
   "cell_type": "code",
   "execution_count": 19,
   "id": "10feaaa8",
   "metadata": {},
   "outputs": [
    {
     "name": "stdout",
     "output_type": "stream",
     "text": [
      "Highest sum with cumulative probability <= 0.5: 3\n"
     ]
    }
   ],
   "source": [
    "# You can use this cell for your calculations (not graded)\n",
    "probabilities = [0.143, 0.143, 0.286, 0.143, 0.143, 0.143]\n",
    "sum_values = [2, 3, 4, 5, 6, 7, 8, 9, 10, 11, 12]\n",
    "cumulative_prob = np.cumsum(probabilities)  # Calculate cumulative probabilities\n",
    "\n",
    "highest_sum = None\n",
    "\n",
    "for i, prob in enumerate(cumulative_prob):\n",
    "    if prob <= 0.5:\n",
    "        highest_sum = sum_values[i]\n",
    "    else:\n",
    "        break\n",
    "\n",
    "print(\"Highest sum with cumulative probability <= 0.5:\", highest_sum)\n"
   ]
  },
  {
   "cell_type": "code",
   "execution_count": 23,
   "id": "963e5763",
   "metadata": {},
   "outputs": [
    {
     "data": {
      "application/vnd.jupyter.widget-view+json": {
       "model_id": "b5f96c80e6264192a8da2edc9343a1bc",
       "version_major": 2,
       "version_minor": 0
      },
      "text/plain": [
       "IntSlider(value=2, continuous_update=False, description='Sum:', max=12, min=2)"
      ]
     },
     "metadata": {},
     "output_type": "display_data"
    },
    {
     "data": {
      "application/vnd.jupyter.widget-view+json": {
       "model_id": "4d1eb9c84ad3444db5b509c5de341d00",
       "version_major": 2,
       "version_minor": 0
      },
      "text/plain": [
       "Button(button_style='success', description='Save your answer!', style=ButtonStyle())"
      ]
     },
     "metadata": {},
     "output_type": "display_data"
    },
    {
     "data": {
      "application/vnd.jupyter.widget-view+json": {
       "model_id": "cc7d7c0531af461ba9cd709c9ed64672",
       "version_major": 2,
       "version_minor": 0
      },
      "text/plain": [
       "Output()"
      ]
     },
     "metadata": {},
     "output_type": "display_data"
    }
   ],
   "source": [
    "# Run this cell to submit your answer\n",
    "utils.exercise_6()"
   ]
  },
  {
   "cell_type": "markdown",
   "id": "f6684426",
   "metadata": {},
   "source": [
    "## Exercise 7:\n",
    "\n",
    "Given a 6-sided fair dice you try a new game. You only throw the dice a second time if the result of the first throw is **lower** or equal to 3. Which of the following `probability mass functions` will be the one you should get given this new constraint?\n",
    "\n",
    "<table><tr>\n",
    "<td> <img src=\"./images/6_sided_cond_green.png\" style=\"height: 250px;\"/> </td>\n",
    "<td> <img src=\"./images/6_sided_cond_blue.png\" style=\"height: 250px;\"/> </td>\n",
    "<td> <img src=\"./images/6_sided_cond_red.png\" style=\"height: 250px;\"/> </td>\n",
    "<td> <img src=\"./images/6_sided_cond_brown.png\" style=\"height: 250px;\"/> </td>\n",
    "\n",
    "</tr></table>\n",
    "\n",
    "Hints:\n",
    "- You can simulate the second throws as a numpy array and then make the values that met a certain criteria equal to 0 by using [np.where](https://numpy.org/doc/stable/reference/generated/numpy.where.html)"
   ]
  },
  {
   "cell_type": "code",
   "execution_count": 24,
   "id": "9e64d178",
   "metadata": {},
   "outputs": [
    {
     "data": {
      "image/png": "[encoded data removed]",
      "text/plain": [
       "<Figure size 640x480 with 1 Axes>"
      ]
     },
     "metadata": {},
     "output_type": "display_data"
    }
   ],
   "source": [
    "# You can use this cell for your calculations (not graded)\n",
    "np.random.seed(0)\n",
    "num_trials = 1000000\n",
    "first_throw = np.random.choice([1, 2, 3, 4, 5, 6], size=num_trials)\n",
    "second_throw = np.random.choice([1, 2, 3, 4, 5, 6], size=num_trials)\n",
    "\n",
    "second_throw = np.where(first_throw <= 3, second_throw, 0)\n",
    "final_outcomes = first_throw + second_throw\n",
    "\n",
    "plt.hist(final_outcomes, bins=range(2, 11), align='left', rwidth=0.8, density=True)\n",
    "plt.xticks(range(2, 10))\n",
    "plt.xlabel('Sum of dice')\n",
    "plt.ylabel('Probability')\n",
    "plt.title('Histogram of sum')\n",
    "plt.show()"
   ]
  },
  {
   "cell_type": "code",
   "execution_count": 25,
   "id": "82a4db40",
   "metadata": {},
   "outputs": [
    {
     "data": {
      "application/vnd.jupyter.widget-view+json": {
       "model_id": "b5831fd89cc5492a9e8dbd9c321475e7",
       "version_major": 2,
       "version_minor": 0
      },
      "text/plain": [
       "ToggleButtons(description='Your answer:', options=('left-most', 'left-center', 'right-center', 'right-most'), …"
      ]
     },
     "metadata": {},
     "output_type": "display_data"
    },
    {
     "data": {
      "application/vnd.jupyter.widget-view+json": {
       "model_id": "7d6e42ff5d9348b19abfb8aad22f093e",
       "version_major": 2,
       "version_minor": 0
      },
      "text/plain": [
       "Button(button_style='success', description='Save your answer!', style=ButtonStyle())"
      ]
     },
     "metadata": {},
     "output_type": "display_data"
    },
    {
     "data": {
      "application/vnd.jupyter.widget-view+json": {
       "model_id": "9d49469e5ae940ae86052e9b25fddc31",
       "version_major": 2,
       "version_minor": 0
      },
      "text/plain": [
       "Output()"
      ]
     },
     "metadata": {},
     "output_type": "display_data"
    }
   ],
   "source": [
    "# Run this cell to submit your answer\n",
    "utils.exercise_7()"
   ]
  },
  {
   "cell_type": "markdown",
   "id": "ba973eaf",
   "metadata": {},
   "source": [
    "## Exercise 8:\n",
    "\n",
    "Given the same scenario as in the previous exercise but with the twist that you only throw the dice a second time if the result of the first throw is **greater** or equal to 3. Which of the following `probability mass functions` will be the one you should get given this new constraint?\n",
    "\n",
    "<table><tr>\n",
    "<td> <img src=\"./images/6_sided_cond_green2.png\" style=\"height: 250px;\"/> </td>\n",
    "<td> <img src=\"./images/6_sided_cond_blue2.png\" style=\"height: 250px;\"/> </td>\n",
    "<td> <img src=\"./images/6_sided_cond_red2.png\" style=\"height: 250px;\"/> </td>\n",
    "<td> <img src=\"./images/6_sided_cond_brown2.png\" style=\"height: 250px;\"/> </td>\n",
    "\n",
    "</tr></table>\n"
   ]
  },
  {
   "cell_type": "code",
   "execution_count": 26,
   "id": "4d25300f",
   "metadata": {},
   "outputs": [
    {
     "data": {
      "image/png": "[encoded data removed]",
      "text/plain": [
       "<Figure size 640x480 with 1 Axes>"
      ]
     },
     "metadata": {},
     "output_type": "display_data"
    }
   ],
   "source": [
    "# You can use this cell for your calculations (not graded)\n",
    "np.random.seed(0)\n",
    "num_trials = 1000000\n",
    "first_throw = np.random.choice([1, 2, 3, 4, 5, 6], size=num_trials)\n",
    "second_throw = np.random.choice([1, 2, 3, 4, 5, 6], size=num_trials)\n",
    "\n",
    "second_throw = np.where(first_throw >= 3, second_throw, 0)\n",
    "final_outcomes = first_throw + second_throw\n",
    "\n",
    "plt.hist(final_outcomes, bins=range(1, 14), align='left', rwidth=0.8, density=True)\n",
    "plt.xticks(range(2, 13))\n",
    "plt.xlabel('Sum of dice')\n",
    "plt.ylabel('Probability')\n",
    "plt.title('Histogram of sum')\n",
    "plt.show()\n"
   ]
  },
  {
   "cell_type": "code",
   "execution_count": 27,
   "id": "33bb9fd2",
   "metadata": {},
   "outputs": [
    {
     "data": {
      "application/vnd.jupyter.widget-view+json": {
       "model_id": "afc9acf247b84be28e3087171c714674",
       "version_major": 2,
       "version_minor": 0
      },
      "text/plain": [
       "ToggleButtons(description='Your answer:', options=('left-most', 'left-center', 'right-center', 'right-most'), …"
      ]
     },
     "metadata": {},
     "output_type": "display_data"
    },
    {
     "data": {
      "application/vnd.jupyter.widget-view+json": {
       "model_id": "82c6e9851d65408990915e63e7072924",
       "version_major": 2,
       "version_minor": 0
      },
      "text/plain": [
       "Button(button_style='success', description='Save your answer!', style=ButtonStyle())"
      ]
     },
     "metadata": {},
     "output_type": "display_data"
    },
    {
     "data": {
      "application/vnd.jupyter.widget-view+json": {
       "model_id": "b35c1f5f6a7c434f80cab2060ee66671",
       "version_major": 2,
       "version_minor": 0
      },
      "text/plain": [
       "Output()"
      ]
     },
     "metadata": {},
     "output_type": "display_data"
    }
   ],
   "source": [
    "# Run this cell to submit your answer\n",
    "utils.exercise_8()"
   ]
  },
  {
   "cell_type": "markdown",
   "id": "017e9b22",
   "metadata": {},
   "source": [
    "## Exercise 9:\n",
    "\n",
    "Given a n-sided fair dice. You throw it twice and record the sum. How does increasing the number of sides `n` of the dice impact the mean and variance of the sum and the covariance of the joint distribution?"
   ]
  },
  {
   "cell_type": "code",
   "execution_count": 28,
   "id": "645a9b74",
   "metadata": {},
   "outputs": [
    {
     "name": "stdout",
     "output_type": "stream",
     "text": [
      "For a 2-sided dice:\n",
      "Mean of the sum: 3.002\n",
      "Variance of the sum: 0.497\n",
      "Covariance of the joint distribution: -0.002\n",
      "\n",
      "For a 3-sided dice:\n",
      "Mean of the sum: 4.000\n",
      "Variance of the sum: 1.331\n",
      "Covariance of the joint distribution: -0.001\n",
      "\n",
      "For a 4-sided dice:\n",
      "Mean of the sum: 5.003\n",
      "Variance of the sum: 2.510\n",
      "Covariance of the joint distribution: 0.003\n",
      "\n",
      "For a 5-sided dice:\n",
      "Mean of the sum: 6.014\n",
      "Variance of the sum: 4.003\n",
      "Covariance of the joint distribution: 0.002\n",
      "\n",
      "For a 6-sided dice:\n",
      "Mean of the sum: 7.012\n",
      "Variance of the sum: 5.820\n",
      "Covariance of the joint distribution: -0.001\n",
      "\n",
      "For a 7-sided dice:\n",
      "Mean of the sum: 8.011\n",
      "Variance of the sum: 7.934\n",
      "Covariance of the joint distribution: -0.024\n",
      "\n",
      "For a 8-sided dice:\n",
      "Mean of the sum: 9.007\n",
      "Variance of the sum: 10.492\n",
      "Covariance of the joint distribution: 0.012\n",
      "\n",
      "For a 9-sided dice:\n",
      "Mean of the sum: 10.010\n",
      "Variance of the sum: 13.225\n",
      "Covariance of the joint distribution: -0.040\n",
      "\n",
      "For a 10-sided dice:\n",
      "Mean of the sum: 11.020\n",
      "Variance of the sum: 16.428\n",
      "Covariance of the joint distribution: -0.018\n",
      "\n"
     ]
    }
   ],
   "source": [
    "# You can use this cell for your calculations (not graded)\n",
    "def simulate_dice_throws(n, num_trials=100000):\n",
    "    np.random.seed(0)\n",
    "    first_throw = np.random.choice(np.arange(1, n+1), size=num_trials)\n",
    "    second_throw = np.random.choice(np.arange(1, n+1), size=num_trials)\n",
    "    sum_throws = first_throw + second_throw\n",
    "\n",
    "    mean = np.mean(sum_throws)\n",
    "    variance = np.var(sum_throws)\n",
    "    covariance = np.cov(first_throw, second_throw)[0][1]\n",
    "\n",
    "    return mean, variance, covariance\n",
    "\n",
    "for n in range(2, 11):\n",
    "    mean, variance, covariance = simulate_dice_throws(n)\n",
    "    print(f\"For a {n}-sided dice:\")\n",
    "    print(f\"Mean of the sum: {mean:.3f}\")\n",
    "    print(f\"Variance of the sum: {variance:.3f}\")\n",
    "    print(f\"Covariance of the joint distribution: {covariance:.3f}\\n\")\n"
   ]
  },
  {
   "cell_type": "code",
   "execution_count": 40,
   "id": "907412da",
   "metadata": {},
   "outputs": [
    {
     "name": "stdout",
     "output_type": "stream",
     "text": [
      "As the number of sides in the die increases:\n"
     ]
    },
    {
     "data": {
      "application/vnd.jupyter.widget-view+json": {
       "model_id": "3d18b08056f54271914709c9e17fd47d",
       "version_major": 2,
       "version_minor": 0
      },
      "text/plain": [
       "ToggleButtons(description='The mean of the sum:', options=('stays the same', 'increases', 'decreases'), value=…"
      ]
     },
     "metadata": {},
     "output_type": "display_data"
    },
    {
     "data": {
      "application/vnd.jupyter.widget-view+json": {
       "model_id": "d907beea165247cdb0ac32a302285eed",
       "version_major": 2,
       "version_minor": 0
      },
      "text/plain": [
       "ToggleButtons(description='The variance of the sum:', options=('stays the same', 'increases', 'decreases'), va…"
      ]
     },
     "metadata": {},
     "output_type": "display_data"
    },
    {
     "data": {
      "application/vnd.jupyter.widget-view+json": {
       "model_id": "ef214ce2c2b446b997541e95a07ef27f",
       "version_major": 2,
       "version_minor": 0
      },
      "text/plain": [
       "ToggleButtons(description='The covariance of the joint distribution:', options=('stays the same', 'increases',…"
      ]
     },
     "metadata": {},
     "output_type": "display_data"
    },
    {
     "data": {
      "application/vnd.jupyter.widget-view+json": {
       "model_id": "5a5ef2787698405b94b2f03417967b9c",
       "version_major": 2,
       "version_minor": 0
      },
      "text/plain": [
       "Button(button_style='success', description='Save your answer!', style=ButtonStyle())"
      ]
     },
     "metadata": {},
     "output_type": "display_data"
    },
    {
     "data": {
      "application/vnd.jupyter.widget-view+json": {
       "model_id": "f7550e1e11bf44d58de48aef96b23dfc",
       "version_major": 2,
       "version_minor": 0
      },
      "text/plain": [
       "Output()"
      ]
     },
     "metadata": {},
     "output_type": "display_data"
    }
   ],
   "source": [
    "# Run this cell to submit your answer\n",
    "utils.exercise_9()"
   ]
  },
  {
   "cell_type": "markdown",
   "id": "fcf9b3ac",
   "metadata": {},
   "source": [
    "## Exercise 10:\n",
    "\n",
    "Given a 6-sided loaded dice. You throw it twice and record the sum. Which of the following statemets is true?"
   ]
  },
  {
   "cell_type": "code",
   "execution_count": 30,
   "id": "008c5858",
   "metadata": {},
   "outputs": [
    {
     "name": "stdout",
     "output_type": "stream",
     "text": [
      "For a 6-sided dice with side 1 loaded:\n",
      "Mean of the sum: 6.298\n",
      "Variance of the sum: 6.565\n",
      "\n",
      "For a 6-sided dice with side 2 loaded:\n",
      "Mean of the sum: 6.581\n",
      "Variance of the sum: 5.595\n",
      "\n",
      "For a 6-sided dice with side 3 loaded:\n",
      "Mean of the sum: 6.864\n",
      "Variance of the sum: 5.092\n",
      "\n",
      "For a 6-sided dice with side 4 loaded:\n",
      "Mean of the sum: 7.151\n",
      "Variance of the sum: 5.093\n",
      "\n",
      "For a 6-sided dice with side 5 loaded:\n",
      "Mean of the sum: 7.436\n",
      "Variance of the sum: 5.588\n",
      "\n",
      "For a 6-sided dice with side 6 loaded:\n",
      "Mean of the sum: 7.725\n",
      "Variance of the sum: 6.579\n",
      "\n"
     ]
    }
   ],
   "source": [
    "# You can use this cell for your calculations (not graded)\n",
    "def simulate_loaded_dice(n, loaded_side, num_trials=100000):\n",
    "    np.random.seed(0)\n",
    "    p = [2/7 if i == loaded_side else 1/7 for i in range(1, n+1)]\n",
    "    first_throw = np.random.choice(np.arange(1, n+1), p=p, size=num_trials)\n",
    "    second_throw = np.random.choice(np.arange(1, n+1), p=p, size=num_trials)\n",
    "    sum_throws = first_throw + second_throw\n",
    "\n",
    "    mean = np.mean(sum_throws)\n",
    "    variance = np.var(sum_throws)\n",
    "\n",
    "    return mean, variance\n",
    "\n",
    "for loaded_side in range(1, 7):\n",
    "    mean, variance = simulate_loaded_dice(6, loaded_side)\n",
    "    print(f\"For a 6-sided dice with side {loaded_side} loaded:\")\n",
    "    print(f\"Mean of the sum: {mean:.3f}\")\n",
    "    print(f\"Variance of the sum: {variance:.3f}\\n\")\n"
   ]
  },
  {
   "cell_type": "code",
   "execution_count": 39,
   "id": "99373567",
   "metadata": {},
   "outputs": [
    {
     "data": {
      "application/vnd.jupyter.widget-view+json": {
       "model_id": "f2000c74197c4f1589a602a7d39ddb94",
       "version_major": 2,
       "version_minor": 0
      },
      "text/plain": [
       "RadioButtons(layout=Layout(width='max-content'), options=('the mean and variance is the same regardless of whi…"
      ]
     },
     "metadata": {},
     "output_type": "display_data"
    },
    {
     "data": {
      "application/vnd.jupyter.widget-view+json": {
       "model_id": "8591bdce84ae4b1eb7dd4fb2b8c5bbe1",
       "version_major": 2,
       "version_minor": 0
      },
      "text/plain": [
       "Button(button_style='success', description='Save your answer!', style=ButtonStyle())"
      ]
     },
     "metadata": {},
     "output_type": "display_data"
    },
    {
     "data": {
      "application/vnd.jupyter.widget-view+json": {
       "model_id": "86821bc0cefb4722a3741598882617c9",
       "version_major": 2,
       "version_minor": 0
      },
      "text/plain": [
       "Output()"
      ]
     },
     "metadata": {},
     "output_type": "display_data"
    }
   ],
   "source": [
    "# Run this cell to submit your answer\n",
    "utils.exercise_10()"
   ]
  },
  {
   "cell_type": "markdown",
   "id": "f8a1a8a3",
   "metadata": {},
   "source": [
    "## Exercise 11:\n",
    "\n",
    "Given a n-sided dice (could be fair or not). You throw it twice and record the sum (there is no dependance between the throws). If you are only given the histogram of the sums can you use it to know which are the probabilities of the dice landing on each side?\n",
    "\n",
    "In other words, if you are provided with only the histogram of the sums like this one:\n",
    "<td> <img src=\"./images/hist_sum_6_side.png\" style=\"height: 300px;\"/> </td>\n",
    "\n",
    "Could you use it to know the probabilities of the dice landing on each side? Which will be equivalent to finding this histogram:\n",
    "<img src=\"./images/fair_dice.png\" style=\"height: 300px;\"/>\n"
   ]
  },
  {
   "cell_type": "code",
   "execution_count": 32,
   "id": "b42149cf",
   "metadata": {},
   "outputs": [
    {
     "name": "stdout",
     "output_type": "stream",
     "text": [
      "Covariance when second throw is made if first throw is <= 3: -2.623\n",
      "Covariance when second throw is made if first throw is >= 3: 2.333\n"
     ]
    }
   ],
   "source": [
    "# You can use this cell for your calculations (not graded)\n",
    "np.random.seed(0)\n",
    "num_trials = 1000000\n",
    "\n",
    "first_throw = np.random.choice(range(1, 7), size=num_trials)\n",
    "\n",
    "second_throw1 = np.where(first_throw <= 3, np.random.choice(range(1, 7), size=num_trials), 0)\n",
    "cov1 = np.cov(first_throw, second_throw1)[0, 1]\n",
    "\n",
    "second_throw2 = np.where(first_throw >= 3, np.random.choice(range(1, 7), size=num_trials), 0)\n",
    "cov2 = np.cov(first_throw, second_throw2)[0, 1]\n",
    "\n",
    "print(f\"Covariance when second throw is made if first throw is <= 3: {cov1:.3f}\")\n",
    "print(f\"Covariance when second throw is made if first throw is >= 3: {cov2:.3f}\")\n"
   ]
  },
  {
   "cell_type": "code",
   "execution_count": 33,
   "id": "33a2e4d9",
   "metadata": {},
   "outputs": [
    {
     "data": {
      "application/vnd.jupyter.widget-view+json": {
       "model_id": "a1c23927d1a54653989e3ee763fa56de",
       "version_major": 2,
       "version_minor": 0
      },
      "text/plain": [
       "RadioButtons(layout=Layout(width='max-content'), options=('yes, but only if one of the sides is loaded', 'no, …"
      ]
     },
     "metadata": {},
     "output_type": "display_data"
    },
    {
     "data": {
      "application/vnd.jupyter.widget-view+json": {
       "model_id": "fc5103d9e6c1459b96d3726f7a1923a0",
       "version_major": 2,
       "version_minor": 0
      },
      "text/plain": [
       "Button(button_style='success', description='Save your answer!', style=ButtonStyle())"
      ]
     },
     "metadata": {},
     "output_type": "display_data"
    },
    {
     "data": {
      "application/vnd.jupyter.widget-view+json": {
       "model_id": "41ff1947551e4d9e8571b27f9e796582",
       "version_major": 2,
       "version_minor": 0
      },
      "text/plain": [
       "Output()"
      ]
     },
     "metadata": {},
     "output_type": "display_data"
    }
   ],
   "source": [
    "# Run this cell to submit your answer\n",
    "utils.exercise_11()"
   ]
  },
  {
   "cell_type": "markdown",
   "id": "1635ca7c",
   "metadata": {},
   "source": [
    "## Before Submitting Your Assignment\n",
    "\n",
    "Run the next cell to check that you have answered all of the exercises"
   ]
  },
  {
   "cell_type": "code",
   "execution_count": 34,
   "id": "c6822278",
   "metadata": {},
   "outputs": [
    {
     "name": "stdout",
     "output_type": "stream",
     "text": [
      "All answers saved, you can submit the assignment for grading!\n"
     ]
    }
   ],
   "source": [
    "utils.check_submissions()"
   ]
  },
  {
   "cell_type": "markdown",
   "id": "5286008f",
   "metadata": {},
   "source": [
    "**Congratulations on finishing this assignment!**\n",
    "\n",
    "During this assignment you tested your knowledge on probability distributions, descriptive statistics and visual interpretation of these concepts. You had the choice to compute everything analytically or create simulations to assist you get the right answer. You probably also realized that some exercises could be answered without any computations just by looking at certain hidden queues that the visualizations revealed.\n",
    "\n",
    "**Keep up the good work!**\n"
   ]
  }
 ],
 "metadata": {
  "kernelspec": {
   "display_name": "Python 3 (ipykernel)",
   "language": "python",
   "name": "python3"
  },
  "language_info": {
   "codemirror_mode": {
    "name": "ipython",
    "version": 3
   },
   "file_extension": ".py",
   "mimetype": "text/x-python",
   "name": "python",
   "nbconvert_exporter": "python",
   "pygments_lexer": "ipython3",
   "version": "3.10.11"
  }
 },
 "nbformat": 4,
 "nbformat_minor": 5
}
